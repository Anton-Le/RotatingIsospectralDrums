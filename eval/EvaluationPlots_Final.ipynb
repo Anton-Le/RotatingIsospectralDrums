{
 "cells": [
  {
   "cell_type": "markdown",
   "metadata": {},
   "source": [
    "# Collective plot of the experimental data\n",
    "This notebook contains the generation of all plots of the master's thesis.\n",
    "The plots proposed on 6.8. and implemented here are as follows:\n",
    "1. Anisospectrality vs. mesh width and $\\frac{r_0\\omega}{c}$\n",
    "2. Anisospectrality vs. $\\frac{r_0\\omega}{c}$ for $\\mathcal{P}_1,\\mathcal{P}_2,\\mathcal{P}_3$.\n",
    "3. Anisospectrality vs. $\\frac{r_0\\omega}{c}$ full PDE vs. linearized PDE\n",
    "4. Examination plot group 1\n",
    "5. Examination plot group 2\n",
    "6. Difference in anisospectrality for CW and CCW rotation.\n",
    "7. ~~Anisospectrality vs. $\\frac{r_0\\omega}{c}$ for different axes of rotation.~~\n",
    "8. Sunada and Harayama CW vs. CCW dimensionless frequency difference vs. $\\frac{r_0\\omega}{c}$.\n",
    "\n",
    "---------------------------\n",
    "In the following the properties of each plot are described\n",
    "### Plot Nr. 1\n",
    "- 3D plot\n",
    "- Fill to the bottom for the $\\frac{r_0\\omega}{c}$-direction\n",
    "- Dotted line connection in the mesh width direction.\n",
    "### Plot Nr. 2\n",
    "- Fixed mesh width. Triangle side length $\\tfrac{2}{2^7}$ (refinement level 7).\n",
    "- $\\lambda_1,\\lambda_9$ distinguished by marker.\n",
    "- $\\mathcal{P}_k$ distinguished by color and line style.\n",
    "- Slope triangle.\n",
    "- Shading of non-physical regions\n",
    "### Plot Nr. 3\n",
    "- Fixed mesh width. Triangle side length $\\tfrac{1}{2^7}$ (refinement level 7).\n",
    "- $\\lambda_1,\\lambda_9$ distinguished by marker.\n",
    "- PDE type distinguished by color and line style.\n",
    "- Slope triangle\n",
    "- Shading of non-physical regions\n",
    "### Plot Nr. 4\n",
    "- **Full** equation only.\n",
    "- **Vacuum** only.\n",
    "- Plot $\\bigl\\vert(\\lambda_k^{(1)})^2-(\\lambda_k^{(2)})^2\\bigr\\vert$ vs. $\\frac{r_0\\omega}{c}$ in the upper plot.\n",
    "- Plot $-\\lambda^2$ in the lower plot (essentially eigenvalues as presented by ARPACK).\n",
    "- Fixed mesh width. Triangle side length $\\tfrac{1}{2^7}$ (refinement level 7).\n",
    "- $\\lambda_1,\\lambda_9$ distinguished by marker.\n",
    "- Inset zoom of the eigenvalues at the first dip for $\\lambda_9$.\n",
    "- Shading of non-physical regions.\n",
    "- ***NO*** slope triangle.\n",
    "### Plot Nr. 5\n",
    "- **Only for ID1.1 and ID2.1** \n",
    "- **Vacuum** only,\n",
    "- Plot $-\\lambda^2$ in the lower plot (essentially eigenvalues as presented by ARPACK). For all 10 eigenvalues.\n",
    "- Add $\\omega_i,i\\in\\lbrace1,2,3\\rbrace$ markers to the ground state and the 9th excited to be referenced in the eigenmode plots.\n",
    "- Distinction of eigenvalues by color\n",
    "### Plot Nr. 6\n",
    "- $\\lambda_1,\\lambda_9$ distinguished by marker.\n",
    "- Full PDE and linearized PDE distinguished by color and line style."
   ]
  },
  {
   "cell_type": "markdown",
   "metadata": {},
   "source": [
    "## Further notes\n",
    "The plots 2,3,4,5 are to be made for vacuum and diamond (data subdirectories Exp_0 and Exp_2).\n",
    "Whenever 2 colors are required (to distinguish domains) the following are used:  darkred, darkgreen.\n",
    "\n",
    "Similarly, the two distinct line styles are: solid, dotted\n",
    "\n",
    "Similarly, the two distinct markers are: 'o' - filled circle, 'x' - cross\n",
    "\n",
    "The resolution for the images should be 1000 dpi.\n",
    "\n",
    "The indices of the ground state and the 9th excited state are -1, 1 by merit of ARPACK\n",
    "returning a list of eigenvalues sorted from smaller to larger considering the signs.\n",
    "\n",
    "*It is assumed that the data in the directories has been pre-evaluated using EvalScript.py* Such that the collective data is stored in the .npz files.\n",
    "\n",
    "** The side length for the first pair is 2, not 1 **\n",
    "\n",
    "The $\\omega$ values used in eigenmode plots are:\n",
    "$\\omega_1 = 661.539$\n",
    "$\\omega_2 = 58891200$\n",
    "$\\omega_3 = 132919000$"
   ]
  },
  {
   "cell_type": "code",
   "execution_count": 1,
   "metadata": {
    "collapsed": true
   },
   "outputs": [],
   "source": [
    "vacuumSubdir = \"Exp_0\"\n",
    "diamondSubdir = \"Exp_1\"\n",
    "color1 = 'darkred'\n",
    "color2 = 'darkgreen'\n",
    "ls1 = 'solid'\n",
    "ls2 = ':'\n",
    "mark1 = 'o'\n",
    "mark2 = 'd'\n",
    "lsize=14\n",
    "resolution = 1000\n",
    "GSIdx = -1\n",
    "NSIdx = 1\n",
    "lw = 2.5\n",
    "omega1 = 661.539\n",
    "omega2 = 58891200\n",
    "omega3 = 132919000"
   ]
  },
  {
   "cell_type": "markdown",
   "metadata": {},
   "source": [
    "The radii of the circumcircles for each domain have been computed by hand and are stored in the following dictionary"
   ]
  },
  {
   "cell_type": "code",
   "execution_count": 2,
   "metadata": {
    "collapsed": true
   },
   "outputs": [],
   "source": [
    "R0Dict = {\"ID1_1\":3.6651, \"ID1_2\":3.4667, \"ID2_1\":4.55, \"ID2_2\":4.8365 };"
   ]
  },
  {
   "cell_type": "markdown",
   "metadata": {},
   "source": [
    "Load the necessary libraries"
   ]
  },
  {
   "cell_type": "code",
   "execution_count": 4,
   "metadata": {
    "collapsed": false
   },
   "outputs": [],
   "source": [
    "import numpy as np\n",
    "import scipy as sp\n",
    "import os, shutil, sys, re\n",
    "from matplotlib import pyplot as plt\n",
    "from scipy.constants import codata\n",
    "from mpl_toolkits.mplot3d import Axes3D\n",
    "from matplotlib import colors\n",
    "from slope_marker import *\n",
    "from PlotFunctions import readEigenvalueData"
   ]
  },
  {
   "cell_type": "markdown",
   "metadata": {},
   "source": [
    "Store the current directory as directory of origin"
   ]
  },
  {
   "cell_type": "code",
   "execution_count": 5,
   "metadata": {
    "collapsed": true
   },
   "outputs": [],
   "source": [
    "origin = os.getcwd();"
   ]
  },
  {
   "cell_type": "markdown",
   "metadata": {},
   "source": [
    "Fetch the CODATA value for the speed of light"
   ]
  },
  {
   "cell_type": "code",
   "execution_count": 6,
   "metadata": {
    "collapsed": true
   },
   "outputs": [],
   "source": [
    "c = sp.constants.value('speed of light in vacuum');"
   ]
  },
  {
   "cell_type": "markdown",
   "metadata": {},
   "source": [
    "## Plots 3, 4, 5\n",
    "These plots are done for a fixed mesh width and a fixed degree of the polynomail ansatz functions.\n",
    "Seeing as these plots constitute the main plots care has been taken to use a sufficient number of $\\omega$-values."
   ]
  },
  {
   "cell_type": "markdown",
   "metadata": {},
   "source": [
    "The folders are as follows"
   ]
  },
  {
   "cell_type": "code",
   "execution_count": 7,
   "metadata": {
    "collapsed": true
   },
   "outputs": [],
   "source": [
    "#Isospectral pair 1\n",
    "ID1_full_datadir=\"../data/ID1/P3_Full_EVExperiment\"\n",
    "ID1_lin_datadir=\"../data/ID1/P3_EVExperiment\"\n",
    "#Isospectral pair 2\n",
    "ID2_full_datadir=\"../data/ID2/P3_Full_EVExperiment\"\n",
    "ID2_lin_datadir=\"../data/ID2/P3_EVExperiment\""
   ]
  },
  {
   "cell_type": "markdown",
   "metadata": {},
   "source": [
    "Fetch the data for the experiments for **ID1**"
   ]
  },
  {
   "cell_type": "code",
   "execution_count": 8,
   "metadata": {
    "collapsed": false
   },
   "outputs": [
    {
     "ename": "IOError",
     "evalue": "[Errno 2] No such file or directory: 'Results_Exp_0.npz'",
     "output_type": "error",
     "traceback": [
      "\u001b[1;31m---------------------------------------------------------------------------\u001b[0m",
      "\u001b[1;31mIOError\u001b[0m                                   Traceback (most recent call last)",
      "\u001b[1;32m<ipython-input-8-4ae1d7b7217f>\u001b[0m in \u001b[0;36m<module>\u001b[1;34m()\u001b[0m\n\u001b[0;32m      5\u001b[0m \u001b[0mresultFile\u001b[0m \u001b[1;33m=\u001b[0m \u001b[1;34m\"Results_Exp_0.npz\"\u001b[0m\u001b[1;33m\u001b[0m\u001b[0m\n\u001b[0;32m      6\u001b[0m \u001b[0mevFile\u001b[0m \u001b[1;33m=\u001b[0m \u001b[1;34m\"Eigenvalues_Subdomain1_Exp_0.npz\"\u001b[0m\u001b[1;33m\u001b[0m\u001b[0m\n\u001b[1;32m----> 7\u001b[1;33m \u001b[1;33m[\u001b[0m\u001b[0momegaID1\u001b[0m\u001b[1;33m,\u001b[0m \u001b[0mEVDiffvac_full\u001b[0m\u001b[1;33m,\u001b[0m \u001b[0mEigvalvac1_full\u001b[0m\u001b[1;33m]\u001b[0m \u001b[1;33m=\u001b[0m \u001b[0mreadEigenvalueData\u001b[0m\u001b[1;33m(\u001b[0m\u001b[0mresultFile\u001b[0m\u001b[1;33m,\u001b[0m \u001b[0mevFile\u001b[0m\u001b[1;33m)\u001b[0m\u001b[1;33m;\u001b[0m\u001b[1;33m\u001b[0m\u001b[0m\n\u001b[0m\u001b[0;32m      8\u001b[0m \u001b[1;33m\u001b[0m\u001b[0m\n\u001b[0;32m      9\u001b[0m \u001b[1;31m#fetch the eigenvalues for the second subdomain\u001b[0m\u001b[1;33m\u001b[0m\u001b[1;33m\u001b[0m\u001b[0m\n",
      "\u001b[1;32mPlotFunctions.py\u001b[0m in \u001b[0;36mreadEigenvalueData\u001b[1;34m(filenameDifferences, filenameEigenvalues)\u001b[0m\n",
      "\u001b[1;32m/home/shared/Canopy_64bit/User/lib/python2.7/site-packages/numpy/lib/npyio.pyc\u001b[0m in \u001b[0;36mload\u001b[1;34m(file, mmap_mode, allow_pickle, fix_imports, encoding)\u001b[0m\n\u001b[0;32m    360\u001b[0m     \u001b[0mown_fid\u001b[0m \u001b[1;33m=\u001b[0m \u001b[0mFalse\u001b[0m\u001b[1;33m\u001b[0m\u001b[0m\n\u001b[0;32m    361\u001b[0m     \u001b[1;32mif\u001b[0m \u001b[0misinstance\u001b[0m\u001b[1;33m(\u001b[0m\u001b[0mfile\u001b[0m\u001b[1;33m,\u001b[0m \u001b[0mbasestring\u001b[0m\u001b[1;33m)\u001b[0m\u001b[1;33m:\u001b[0m\u001b[1;33m\u001b[0m\u001b[0m\n\u001b[1;32m--> 362\u001b[1;33m         \u001b[0mfid\u001b[0m \u001b[1;33m=\u001b[0m \u001b[0mopen\u001b[0m\u001b[1;33m(\u001b[0m\u001b[0mfile\u001b[0m\u001b[1;33m,\u001b[0m \u001b[1;34m\"rb\"\u001b[0m\u001b[1;33m)\u001b[0m\u001b[1;33m\u001b[0m\u001b[0m\n\u001b[0m\u001b[0;32m    363\u001b[0m         \u001b[0mown_fid\u001b[0m \u001b[1;33m=\u001b[0m \u001b[0mTrue\u001b[0m\u001b[1;33m\u001b[0m\u001b[0m\n\u001b[0;32m    364\u001b[0m     \u001b[1;32melse\u001b[0m\u001b[1;33m:\u001b[0m\u001b[1;33m\u001b[0m\u001b[0m\n",
      "\u001b[1;31mIOError\u001b[0m: [Errno 2] No such file or directory: 'Results_Exp_0.npz'"
     ]
    }
   ],
   "source": [
    "# Full PDE\n",
    "#vacuum\n",
    "Directory = ID1_full_datadir + '/' + vacuumSubdir;\n",
    "os.chdir(Directory);\n",
    "resultFile = \"Results_Exp_0.npz\"\n",
    "evFile = \"Eigenvalues_Subdomain1_Exp_0.npz\"\n",
    "[omegaID1, EVDiffvac_full, Eigvalvac1_full] = readEigenvalueData(resultFile, evFile);\n",
    "\n",
    "#fetch the eigenvalues for the second subdomain\n",
    "data = np.load(\"Eigenvalues_Subdomain2_Exp_0.npz\");\n",
    "EV = data['Data'];\n",
    "Eigvalvac2_full = EV[-1];\n",
    "\n",
    "#diamond\n",
    "Directory = ID1_full_datadir + '/' + diamondSubdir;\n",
    "os.chdir(Directory);\n",
    "resultFile = \"Results_Exp_1.npz\"\n",
    "[omegaID1, EVDiffdia_full] = readEigenvalueData(resultFile);\n",
    "\n",
    "\n",
    "#Linearized PDE\n",
    "#vacuum\n",
    "Directory = ID1_lin_datadir + '/' + vacuumSubdir;\n",
    "os.chdir(Directory);\n",
    "resultFile = \"Results_Exp_0.npz\"\n",
    "evFile = \"Eigenvalues_Subdomain1_Exp_0.npz\"\n",
    "[omegaID1, EVDiffvac_lin, Eigvalvac_lin] = readEigenvalueData(resultFile, evFile);\n",
    "#diamond\n",
    "Directory = ID1_lin_datadir + '/' + diamondSubdir;\n",
    "os.chdir(Directory);\n",
    "resultFile = \"Results_Exp_1.npz\"\n",
    "[omegaID1, EVDiffdia_lin] = readEigenvalueData(resultFile);\n",
    "\n",
    "#return to origin\n",
    "os.chdir(origin)\n",
    "\n",
    "R0 = max(R0Dict[\"ID1_1\"], R0Dict[\"ID1_2\"]);\n",
    "x = R0*omegaID1/c;"
   ]
  },
  {
   "cell_type": "markdown",
   "metadata": {},
   "source": [
    "### Plot Nr. 3\n",
    "Vacuum"
   ]
  },
  {
   "cell_type": "code",
   "execution_count": 31,
   "metadata": {
    "collapsed": false
   },
   "outputs": [],
   "source": [
    "fig, ax = plt.subplots()\n",
    "#linearized PDE\n",
    "ax.loglog(x, EVDiffvac_lin[GSIdx], marker=mark1, color=color1, linestyle=ls1, lw=lw);\n",
    "ax.loglog(x, EVDiffvac_lin[NSIdx], marker=mark2, color=color1, linestyle=ls1, lw=lw);\n",
    "#full PDE\n",
    "ax.loglog(x, EVDiffvac_full[GSIdx], marker=mark1, color=color2, linestyle=ls2, lw=lw);\n",
    "ax.loglog(x, EVDiffvac_full[NSIdx], marker=mark2, color=color2, linestyle=ls2, lw=lw);\n",
    "plt.xlabel(\"$\\\\frac{R_0\\omega}{c}$\", size='xx-large')\n",
    "plt.ylabel(\"$|(\\lambda^{(1)})^2 - (\\lambda^{(2)})^2|\\;\\left[\\\\frac{1}{m}\\\\right]$\", size='x-large')\n",
    "plt.grid()\n",
    "plt.legend((\"$\\lambda_0$ linear\", \"$\\lambda_9$ linear\", \"$\\lambda_0$ full\", \"$\\lambda_9$ full\"),\\\n",
    "           loc='upper left', framealpha=0.7)\n",
    "#add a slope marker\n",
    "slope_marker((1e-3,1e-8), (2,1), 0.125, 0.15, ax, ec='black', linestyle='solid',\\\n",
    "             lw='1.5', fill=False)\n",
    "#mask the probably unphysical region\n",
    "plt.axvspan(5*1e-1, max(x), facecolor='none', hatch='x', alpha=0.1)\n",
    "#fit\n",
    "plt.xlim(min(x), max(x));\n",
    "#change label size\n",
    "plt.tick_params(axis='both', which='major', labelsize=lsize)\n",
    "plt.tight_layout();\n",
    "plt.savefig(\"ID1_Anisospec_vs_param_Full_vs_Lin_Vacuum.eps\", format='eps', dpi=resolution)\n",
    "plt.show()"
   ]
  },
  {
   "cell_type": "markdown",
   "metadata": {},
   "source": [
    "Diamond"
   ]
  },
  {
   "cell_type": "code",
   "execution_count": 32,
   "metadata": {
    "collapsed": true
   },
   "outputs": [],
   "source": [
    "fig, ax = plt.subplots()\n",
    "#linearized PDE\n",
    "ax.loglog(x, EVDiffdia_lin[GSIdx], marker=mark1, color=color1, linestyle=ls1, lw=lw);\n",
    "ax.loglog(x, EVDiffdia_lin[NSIdx], marker=mark2, color=color1, linestyle=ls1, lw=lw);\n",
    "#full PDE\n",
    "ax.loglog(x, EVDiffdia_full[GSIdx], marker=mark1, color=color2, linestyle=ls2, lw=lw);\n",
    "ax.loglog(x, EVDiffdia_full[NSIdx], marker=mark2, color=color2, linestyle=ls2, lw=lw);\n",
    "plt.xlabel(\"$\\\\frac{R_0\\omega}{c}$\", size='xx-large')\n",
    "plt.ylabel(\"$|(\\lambda^{(1)})^2 - (\\lambda^{(2)})^2|\\;\\left[\\\\frac{1}{m}\\\\right]$\", size='x-large')\n",
    "plt.grid()\n",
    "plt.legend((\"$\\lambda_0$ linear\", \"$\\lambda_9$ linear\", \"$\\lambda_0$ full\", \"$\\lambda_9$ full\"),\\\n",
    "           loc='upper left', framealpha=0.7)\n",
    "#add a slope marker\n",
    "slope_marker((1e-2,1e-4), (2,1), 0.125, 0.15, ax, ec='black', linestyle='solid',\\\n",
    "             lw='1.5', fill=False, invert=True)\n",
    "#mask the probably unphysical region\n",
    "plt.axvspan(5*1e-1, max(x), facecolor='none', hatch='x', alpha=0.1)\n",
    "#fit\n",
    "plt.xlim(min(x), max(x));\n",
    "#change labelsize\n",
    "plt.tick_params(axis='both', which='major', labelsize=lsize)\n",
    "plt.tight_layout();\n",
    "plt.savefig(\"ID1_Anisospec_vs_param_Full_vs_Lin_Diamond.eps\", format='eps', dpi=resolution)\n",
    "plt.show()"
   ]
  },
  {
   "cell_type": "markdown",
   "metadata": {},
   "source": [
    "### Plot Nr. 4\n",
    "Vacuum"
   ]
  },
  {
   "cell_type": "code",
   "execution_count": 33,
   "metadata": {
    "collapsed": false
   },
   "outputs": [],
   "source": [
    "fig, axesArray = plt.subplots(2, sharex=True)\n",
    "\n",
    "axesArray[0].loglog(x, EVDiffvac_full[GSIdx], color=color1, linestyle=ls1, marker=mark1)\n",
    "axesArray[0].loglog(x, EVDiffvac_full[NSIdx], color=color1, linestyle=ls1, marker=mark2)\n",
    "\n",
    "axesArray[0].legend((\"$\\lambda_1$\", \"$\\lambda_9$\"), loc='best', framealpha=0.7)\n",
    "\n",
    "axesArray[1].semilogx(x, Eigvalvac1_full[GSIdx], linestyle=ls1, marker=mark1, color=color1, label=\"Domain 1\" );\n",
    "axesArray[1].semilogx(x, Eigvalvac2_full[GSIdx], linestyle=ls2, marker=mark1, color=color2, label=\"Domain 2\" );\n",
    "\n",
    "axesArray[1].semilogx(x, Eigvalvac1_full[NSIdx], linestyle=ls1, marker=mark2, color=color1)\n",
    "axesArray[1].semilogx(x, Eigvalvac2_full[NSIdx], linestyle=ls2, marker=mark2, color=color2)\n",
    "\n",
    "axesArray[1].legend(loc='center left', framealpha=0.7);\n",
    "#grid lines\n",
    "axesArray[0].grid()\n",
    "axesArray[1].grid()\n",
    "axesArray[0].set_xlim(min(x), max(x));\n",
    "\n",
    "fig.subplots_adjust(hspace=0.3);\n",
    "\n",
    "#add shading\n",
    "axesArray[0].axvspan(5*1e-1, max(x), facecolor='none', hatch='x', alpha=0.1)\n",
    "axesArray[1].axvspan(5*1e-1, max(x), facecolor='none', hatch='x', alpha=0.1)\n",
    "\n",
    "#labels\n",
    "axesArray[0].set_ylabel(\"$|(\\lambda^{(1)})^2 - (\\lambda^{(2)})^2|\\;\\left[\\\\frac{1}{m}\\\\right]$\", size='large')\n",
    "axesArray[1].set_ylabel(\"$\\lambda^2\\;\\left[\\\\frac{1}{m}\\\\right]$\", size='large')\n",
    "axesArray[1].set_xlabel(\"$\\\\frac{R_0\\omega}{c}$\", size='xx-large')\n",
    "\n",
    "#label size\n",
    "plt.tick_params(axis='both', which='major', labelsize=lsize)\n",
    "fig.tight_layout();\n",
    "fig.savefig(\"ID1_Anisospectrality_And_Eigenvalues_Full_Vacuum.eps\", format='eps', dpi=resolution);\n",
    "plt.show()"
   ]
  },
  {
   "cell_type": "markdown",
   "metadata": {},
   "source": [
    "### Plot Nr. 5\n",
    "Vacuum"
   ]
  },
  {
   "cell_type": "code",
   "execution_count": 34,
   "metadata": {
    "collapsed": false
   },
   "outputs": [],
   "source": [
    "fig, ax = plt.subplots()\n",
    "Neig = np.shape(Eigvalvac1_full)[0]\n",
    "for k in range(Neig):\n",
    "    ax.semilogx(x, Eigvalvac1_full[k], linewidth=lw, linestyle=ls1, marker=mark2,\\\n",
    "               label=\"$\\lambda_%d$\"%(Neig+1-k))\n",
    "ax.grid()\n",
    "ax.set_xlabel(\"$\\\\frac{R_0\\omega}{c}$\", size='xx-large')\n",
    "ax.set_ylabel(\"$\\lambda^2\\;\\left[\\\\frac{1}{m}\\\\right]$\", size='x-large')\n",
    "#mask the unphysical region\n",
    "ax.axvspan(5*1e-1, max(x), facecolor='none', hatch='x', alpha=0.1)\n",
    "ax.set_xlim(min(x), max(x))\n",
    "\n",
    "#add markers for the ground state\n",
    "IdxOmega1 = np.where( omegaID1 == omega1 )[0][0]\n",
    "IdxOmega2 = np.where( omegaID1 == omega2 )[0][0]\n",
    "IdxOmega3 = np.where( omegaID1 == omega3 )[0][0]\n",
    "\n",
    "arrowProps = dict(arrowstyle='-')\n",
    "boundingBox = dict(boxstyle=\"round\", ec='blue',fc='none')\n",
    "\n",
    "ax.annotate(\"$\\omega_1$\", xy=(x[IdxOmega1], Eigvalvac1_full[GSIdx][IdxOmega1]), xycoords='data',\\\n",
    "            xytext=(1./4, 5./6 ), textcoords='axes fraction', arrowprops=arrowProps,\n",
    "           bbox=boundingBox, color=color1)\n",
    "ax.annotate(\"$\\omega_2$\", xy=(x[IdxOmega2], Eigvalvac1_full[GSIdx][IdxOmega2]), xycoords='data',\\\n",
    "            xytext=(3./4, 5./6 ), textcoords='axes fraction', arrowprops=arrowProps,\n",
    "           bbox=boundingBox, color=color1)\n",
    "ax.annotate(\"$\\omega_3$\", xy=(x[IdxOmega3], Eigvalvac1_full[GSIdx][IdxOmega3]), xycoords='data',\\\n",
    "            xytext=(15./16, 1./2 ), textcoords='axes fraction', arrowprops=arrowProps,\n",
    "           bbox=boundingBox, color=color1)\n",
    "#add markers for the ninth state\n",
    "\n",
    "ax.annotate(\"$\\omega_1$\", xy=(x[IdxOmega1], Eigvalvac1_full[NSIdx][IdxOmega1]), xycoords='data',\\\n",
    "            xytext=(1./4, 5./6 ), textcoords='axes fraction', arrowprops=arrowProps,\n",
    "           bbox=boundingBox, color=color1, alpha=0)\n",
    "ax.annotate(\"$\\omega_2$\", xy=(x[IdxOmega2], Eigvalvac1_full[NSIdx][IdxOmega2]), xycoords='data',\\\n",
    "            xytext=(3./4, 5./6 ), textcoords='axes fraction', arrowprops=arrowProps,\n",
    "           bbox=boundingBox, color=color1, alpha=0)\n",
    "ax.annotate(\"$\\omega_3$\", xy=(x[IdxOmega3], Eigvalvac1_full[NSIdx][IdxOmega3]), xycoords='data',\\\n",
    "            xytext=(15./16, 1./2 ), textcoords='axes fraction', arrowprops=arrowProps,\n",
    "           bbox=boundingBox, color=color1, alpha=0)\n",
    "\n",
    "#label size\n",
    "plt.tick_params(axis='both', which='major', labelsize=lsize)\n",
    "\n",
    "fig.tight_layout();\n",
    "fig.savefig(\"ID1_1_Eigenvalues_Annotated.eps\", format='eps', dpi=resolution);\n",
    "plt.show()"
   ]
  },
  {
   "cell_type": "markdown",
   "metadata": {},
   "source": [
    "------------------------\n",
    "*************************\n",
    "Fetch the data for **ID2**"
   ]
  },
  {
   "cell_type": "code",
   "execution_count": 35,
   "metadata": {
    "collapsed": true
   },
   "outputs": [],
   "source": [
    "# Full PDE\n",
    "#vacuum\n",
    "Directory = ID2_full_datadir + '/' + vacuumSubdir;\n",
    "os.chdir(Directory);\n",
    "resultFile = \"Results_Exp_0.npz\"\n",
    "evFile = \"Eigenvalues_Subdomain1_Exp_0.npz\"\n",
    "[omegaID1, EVDiffvac_full, Eigvalvac1_full] = readEigenvalueData(resultFile, evFile);\n",
    "#fetch the eigenvalues for the second subdomain\n",
    "data = np.load(\"Eigenvalues_Subdomain2_Exp_0.npz\");\n",
    "EV = data['Data'];\n",
    "Eigvalvac2_full = EV[-1];\n",
    "\n",
    "#diamond\n",
    "Directory = ID2_full_datadir + '/' + diamondSubdir;\n",
    "os.chdir(Directory);\n",
    "resultFile = \"Results_Exp_1.npz\"\n",
    "[omegaID2, EVDiffdia_full] = readEigenvalueData(resultFile);\n",
    "\n",
    "#Linearized PDE\n",
    "#vacuum\n",
    "Directory = ID2_lin_datadir + '/' + vacuumSubdir;\n",
    "os.chdir(Directory);\n",
    "resultFile = \"Results_Exp_0.npz\"\n",
    "evFile = \"Eigenvalues_Subdomain1_Exp_0.npz\"\n",
    "[omegaID2, EVDiffvac_lin, Eigvalvac1_lin] = readEigenvalueData(resultFile, evFile);\n",
    "#diamond\n",
    "Directory = ID2_lin_datadir + '/' + diamondSubdir;\n",
    "os.chdir(Directory);\n",
    "resultFile = \"Results_Exp_1.npz\"\n",
    "[omegaID2, EVDiffdia_lin] = readEigenvalueData(resultFile);\n",
    "\n",
    "#return to origin\n",
    "os.chdir(origin)\n",
    "\n",
    "R0 = max(R0Dict[\"ID2_1\"], R0Dict[\"ID2_2\"]);\n",
    "x = R0*omegaID2/c;"
   ]
  },
  {
   "cell_type": "markdown",
   "metadata": {},
   "source": [
    "### Plot Nr. 3\n",
    "Vacuum"
   ]
  },
  {
   "cell_type": "code",
   "execution_count": 36,
   "metadata": {
    "collapsed": true
   },
   "outputs": [],
   "source": [
    "fig, ax = plt.subplots()\n",
    "#linearized PDE\n",
    "ax.loglog(x, EVDiffvac_lin[GSIdx], marker=mark1, color=color1, linestyle=ls1, lw=lw);\n",
    "\n",
    "#full PDE\n",
    "ax.loglog(x, EVDiffvac_full[GSIdx], marker=mark1, color=color2, linestyle=ls2, lw=lw);\n",
    "\n",
    "plt.xlabel(\"$\\\\frac{R_0\\omega}{c}$\", size='xx-large')\n",
    "plt.ylabel(\"$|(\\lambda^{(1)})^2 - (\\lambda^{(2)})^2|\\;\\left[\\\\frac{1}{m}\\\\right]$\", size='x-large')\n",
    "plt.grid()\n",
    "plt.legend((\"$\\lambda_0$ linear\",  \"$\\lambda_0$ full\"),\\\n",
    "           loc='upper left', framealpha=0.7)\n",
    "#add a slope marker\n",
    "slope_marker((1e-3,1e-8), (2,1), 0.125, 0.15, ax, ec='black', linestyle='solid',\\\n",
    "             lw='1.5', fill=False)\n",
    "#mask the probably unphysical region\n",
    "plt.axvspan(5*1e-1, max(x), facecolor='none', hatch='x', alpha=0.1)\n",
    "#fit\n",
    "plt.xlim(min(x), max(x));\n",
    "#label size\n",
    "plt.tick_params(axis='both', which='major', labelsize=lsize)\n",
    "plt.tight_layout();\n",
    "plt.savefig(\"ID2_Anisospec_vs_param_Full_vs_Lin_Vacuum.eps\", format='eps', dpi=resolution)\n",
    "plt.show()"
   ]
  },
  {
   "cell_type": "markdown",
   "metadata": {},
   "source": [
    "Diamond"
   ]
  },
  {
   "cell_type": "code",
   "execution_count": 37,
   "metadata": {
    "collapsed": true
   },
   "outputs": [],
   "source": [
    "fig, ax = plt.subplots()\n",
    "#linearized PDE\n",
    "ax.loglog(x, EVDiffdia_lin[GSIdx], marker=mark1, color=color1, linestyle=ls1, lw=lw);\n",
    "#full PDE\n",
    "ax.loglog(x, EVDiffdia_full[GSIdx], marker=mark1, color=color2, linestyle=ls2, lw=lw);\n",
    "plt.xlabel(\"$\\\\frac{R_0\\omega}{c}$\", size='xx-large')\n",
    "plt.ylabel(\"$|(\\lambda^{(1)})^2 - (\\lambda^{(2)})^2|\\;\\left[\\\\frac{1}{m}\\\\right]$\", size='x-large')\n",
    "plt.grid()\n",
    "plt.legend((\"$\\lambda_0$ linear\",  \"$\\lambda_0$ full\"),\\\n",
    "           loc='upper left', framealpha=0.7)\n",
    "#add a slope marker\n",
    "slope_marker((1e-2,1e-4), (2,1), 0.125, 0.15, ax, ec='black', linestyle='solid',\\\n",
    "             lw='1.5', fill=False, invert=True)\n",
    "#mask the probably unphysical region\n",
    "plt.axvspan(5*1e-1, max(x), facecolor='none', hatch='x', alpha=0.1)\n",
    "#fit\n",
    "plt.xlim(min(x), max(x));\n",
    "#label size\n",
    "plt.tick_params(axis='both', which='major', labelsize=lsize)\n",
    "plt.tight_layout();\n",
    "plt.savefig(\"ID2_Anisospec_vs_param_Full_vs_Lin_Diamond.eps\", format='eps', dpi=resolution)\n",
    "plt.show()"
   ]
  },
  {
   "cell_type": "markdown",
   "metadata": {},
   "source": [
    "### Plot Nr. 4\n",
    "Vacuum"
   ]
  },
  {
   "cell_type": "code",
   "execution_count": 38,
   "metadata": {
    "collapsed": true
   },
   "outputs": [],
   "source": [
    "fig, axesArray = plt.subplots(2, sharex=True)\n",
    "\n",
    "axesArray[0].loglog(x, EVDiffvac_full[GSIdx], color=color1, linestyle=ls1, marker=mark1)\n",
    "\n",
    "axesArray[0].legend((\"$\\lambda_1$\", \"$\\lambda_9$\"), loc='best', framealpha=0.7)\n",
    "\n",
    "axesArray[1].semilogx(x, Eigvalvac1_full[GSIdx], linestyle=ls1, marker=mark1, color=color1, label=\"Domain 1\" );\n",
    "axesArray[1].semilogx(x, Eigvalvac2_full[GSIdx], linestyle=ls2, marker=mark1, color=color2, label=\"Domain 2\" );\n",
    "\n",
    "\n",
    "axesArray[1].legend(loc='center left', framealpha=0.7);\n",
    "#grid lines\n",
    "axesArray[0].grid()\n",
    "axesArray[1].grid()\n",
    "axesArray[0].set_xlim(min(x), max(x));\n",
    "\n",
    "fig.subplots_adjust(hspace=0.3);\n",
    "\n",
    "#add shading\n",
    "axesArray[0].axvspan(5*1e-1, max(x), facecolor='none', hatch='x', alpha=0.1)\n",
    "axesArray[1].axvspan(5*1e-1, max(x), facecolor='none', hatch='x', alpha=0.1)\n",
    "\n",
    "#labels\n",
    "axesArray[0].set_ylabel(\"$|(\\lambda^{(1)})^2 - (\\lambda^{(2)})^2|\\;\\left[\\\\frac{1}{m}\\\\right]$\", size='large')\n",
    "axesArray[1].set_ylabel(\"$\\lambda^2\\;\\left[\\\\frac{1}{m}\\\\right]$\", size='large')\n",
    "axesArray[1].set_xlabel(\"$\\\\frac{R_0\\omega}{c}$\", size='xx-large')\n",
    "\n",
    "#label size\n",
    "plt.tick_params(axis='both', which='major', labelsize=lsize)\n",
    "fig.tight_layout()\n",
    "fig.savefig(\"ID2_Anisospectrality_And_Eigenvalues_Full_Vacuum.eps\", format='eps', dpi=resolution);\n",
    "plt.show()"
   ]
  },
  {
   "cell_type": "markdown",
   "metadata": {},
   "source": [
    "### Plot Nr. 5\n",
    "Vacuum"
   ]
  },
  {
   "cell_type": "code",
   "execution_count": 39,
   "metadata": {
    "collapsed": true
   },
   "outputs": [],
   "source": [
    "fig, ax = plt.subplots()\n",
    "Neig = np.shape(Eigvalvac1_full)[0]\n",
    "for k in range(Neig):\n",
    "    ax.semilogx(x, Eigvalvac1_full[k], linewidth=lw, linestyle=ls1, marker=mark2,\\\n",
    "               label=\"$\\lambda_%d$\"%(Neig+1-k))\n",
    "ax.grid()\n",
    "ax.set_xlabel(\"$\\\\frac{R_0\\omega}{c}$\", size='xx-large')\n",
    "ax.set_ylabel(\"$\\lambda^2\\;\\left[\\\\frac{1}{m}\\\\right]$\", size='x-large')\n",
    "#mask the unphysical region\n",
    "ax.axvspan(5*1e-1, max(x), facecolor='none', hatch='x', alpha=0.1)\n",
    "ax.set_xlim(min(x), max(x))\n",
    "\n",
    "#add markers for the ground state\n",
    "IdxOmega1 = np.where( omegaID2 == omega1 )[0][0]\n",
    "IdxOmega2 = np.where( omegaID2 == omega2 )[0][0]\n",
    "IdxOmega3 = np.where( omegaID2 == omega3 )[0][0]\n",
    "\n",
    "arrowProps = dict(arrowstyle='-')\n",
    "boundingBox = dict(boxstyle=\"round\", ec='blue',fc='none')\n",
    "\n",
    "ax.annotate(\"$\\omega_1$\", xy=(x[IdxOmega1], Eigvalvac1_full[GSIdx][IdxOmega1]), xycoords='data',\\\n",
    "            xytext=(1./4, 5./6 ), textcoords='axes fraction', arrowprops=arrowProps,\n",
    "           bbox=boundingBox, color=color1)\n",
    "ax.annotate(\"$\\omega_2$\", xy=(x[IdxOmega2], Eigvalvac1_full[GSIdx][IdxOmega2]), xycoords='data',\\\n",
    "            xytext=(3./4, 5./6 ), textcoords='axes fraction', arrowprops=arrowProps,\n",
    "           bbox=boundingBox, color=color1)\n",
    "ax.annotate(\"$\\omega_3$\", xy=(x[IdxOmega3], Eigvalvac1_full[GSIdx][IdxOmega3]), xycoords='data',\\\n",
    "            xytext=(15./16, 1./2 ), textcoords='axes fraction', arrowprops=arrowProps,\n",
    "           bbox=boundingBox, color=color1)\n",
    "#add markers for the ninth state\n",
    "\n",
    "ax.annotate(\"$\\omega_1$\", xy=(x[IdxOmega1], Eigvalvac1_full[NSIdx][IdxOmega1]), xycoords='data',\\\n",
    "            xytext=(1./4, 5./6 ), textcoords='axes fraction', arrowprops=arrowProps,\n",
    "           bbox=boundingBox, color=color1, alpha=0)\n",
    "ax.annotate(\"$\\omega_2$\", xy=(x[IdxOmega2], Eigvalvac1_full[NSIdx][IdxOmega2]), xycoords='data',\\\n",
    "            xytext=(3./4, 5./6 ), textcoords='axes fraction', arrowprops=arrowProps,\n",
    "           bbox=boundingBox, color=color1, alpha=0)\n",
    "ax.annotate(\"$\\omega_3$\", xy=(x[IdxOmega3], Eigvalvac1_full[NSIdx][IdxOmega3]), xycoords='data',\\\n",
    "            xytext=(15./16, 1./2 ), textcoords='axes fraction', arrowprops=arrowProps,\n",
    "           bbox=boundingBox, color=color1, alpha=0)\n",
    "\n",
    "#label size\n",
    "plt.tick_params(axis='both', which='major', labelsize=lsize)\n",
    "fig.tight_layout();\n",
    "fig.savefig(\"ID2_1_Eigenvalues_Annotated.eps\", format='eps', dpi=resolution);\n",
    "plt.show()"
   ]
  },
  {
   "cell_type": "markdown",
   "metadata": {},
   "source": [
    "---------------------------------\n",
    "\n",
    "---------------------------------\n",
    "\n",
    "---------------------------------\n",
    "### Plot Nr. 6\n",
    "Only for vacuum"
   ]
  },
  {
   "cell_type": "code",
   "execution_count": 40,
   "metadata": {
    "collapsed": true
   },
   "outputs": [],
   "source": [
    "diamondSubdir = \"Exp_2\"\n",
    "ID1CW_full_datadir = \"../data/ID1/P3_Full\"\n",
    "ID1CCW_full_datadir = \"../data/ID1/P3_Full_CCW\"\n",
    "ID1CW_lin_datadir = \"../data/ID1/P3\"\n",
    "ID1CCW_lin_datadir = \"../data/ID1/P3_CCW\"\n",
    "\n",
    "ID2CW_full_datadir = \"../data/ID2/P3_Full\"\n",
    "ID2CCW_full_datadir = \"../data/ID2/P3_Full_CCW\"\n",
    "ID2CW_lin_datadir = \"../data/ID2/P3\"\n",
    "ID2CCW_lin_datadir = \"../data/ID2/P3_CCW\""
   ]
  },
  {
   "cell_type": "markdown",
   "metadata": {},
   "source": [
    "Fetch the data"
   ]
  },
  {
   "cell_type": "code",
   "execution_count": 41,
   "metadata": {
    "collapsed": true
   },
   "outputs": [],
   "source": [
    "#CW eigenvalue differences\n",
    "Directory = ID1CW_lin_datadir + '/' + vacuumSubdir;\n",
    "os.chdir(Directory)\n",
    "resultFile = \"Results_Exp_0.npz\"\n",
    "[omegaID1CW, EVDiffvacCW_lin] = readEigenvalueData(resultFile);\n",
    "\n",
    "#CCW eigenvalue differences\n",
    "Directory = ID1CCW_lin_datadir + '/' + vacuumSubdir;\n",
    "os.chdir(Directory);\n",
    "resultFile = \"Results_Exp_0.npz\"\n",
    "[omegaID1CCW, EVDiffvacCCW_lin] = readEigenvalueData(resultFile);\n",
    "\n",
    "#return to the origin\n",
    "os.chdir(origin)\n",
    "\n",
    "R0 = max( R0Dict[\"ID1_1\"], R0Dict[\"ID1_2\"]);\n",
    "x = R0*omegaID1CW/c;"
   ]
  },
  {
   "cell_type": "code",
   "execution_count": 42,
   "metadata": {
    "collapsed": false
   },
   "outputs": [
    {
     "data": {
      "text/plain": [
       "(10, 51)"
      ]
     },
     "execution_count": 42,
     "metadata": {},
     "output_type": "execute_result"
    }
   ],
   "source": [
    "np.shape(EVDiffvacCW_lin)"
   ]
  },
  {
   "cell_type": "markdown",
   "metadata": {},
   "source": [
    "Plot the eigenvalue differences"
   ]
  },
  {
   "cell_type": "code",
   "execution_count": 43,
   "metadata": {
    "collapsed": false
   },
   "outputs": [],
   "source": [
    "fig, ax = plt.subplots();\n",
    "#ground state\n",
    "ax.loglog(x[1:], EVDiffvacCW_lin[GSIdx][1:], marker=mark1, linestyle=ls1, color=color1)\n",
    "ax.loglog(x[1:], EVDiffvacCCW_lin[GSIdx][1:], marker=mark1, linestyle=ls2, color=color2)\n",
    "#ninth excited\n",
    "ax.loglog(x[1:], EVDiffvacCW_lin[NSIdx][1:], marker=mark2, linestyle=ls1, color=color1)\n",
    "ax.loglog(x[1:], EVDiffvacCCW_lin[NSIdx][1:], marker=mark2, linestyle=ls2, color=color2)\n",
    "\n",
    "ax.set_xlabel(\"$\\\\frac{R_0\\omega}{c}$\", size='x-large')\n",
    "ax.set_ylabel(\"$|(\\lambda^{(1)})^2 - (\\lambda^{(2)})^2|\\;\\left[\\\\frac{1}{m}\\\\right]$\", size='x-large')\n",
    "\n",
    "ax.legend( (\"$\\lambda_1$ CW \", \"$\\lambda_1$ CCW \", \"$\\lambda_9$ CW \", \"$\\lambda_9$ CCW \"),\\\n",
    "          loc='lower right', framealpha=0.5 )\n",
    "ax.grid()\n",
    "slope_marker((1e-3,1e-8), (2,1), 0.125, 0.15, ax, ec='black', linestyle='solid',\\\n",
    "             lw='1.5', fill=False)\n",
    "ax.axvspan(5*1e-1, max(x), facecolor='none', hatch='x', alpha=0.1)\n",
    "ax.set_xlim(min(x), max(x));\n",
    "#label size\n",
    "plt.tick_params(axis='both', which='major', labelsize=lsize)\n",
    "fig.tight_layout();\n",
    "plt.show()"
   ]
  },
  {
   "cell_type": "markdown",
   "metadata": {},
   "source": [
    "Fetch data for **ID 2**  and plot"
   ]
  },
  {
   "cell_type": "code",
   "execution_count": 44,
   "metadata": {
    "collapsed": false
   },
   "outputs": [],
   "source": [
    "#linearized PDE\n",
    "#CW eigenvalue differences\n",
    "Directory = ID2CW_lin_datadir + '/' + vacuumSubdir;\n",
    "os.chdir(Directory)\n",
    "resultFile = \"Results_Exp_0.npz\"\n",
    "[omegaID2CW, EVDiffvacCW_lin] = readEigenvalueData(resultFile);\n",
    "\n",
    "#CCW eigenvalue differences\n",
    "Directory = ID2CCW_lin_datadir + '/' + vacuumSubdir;\n",
    "os.chdir(Directory);\n",
    "resultFile = \"Results_Exp_0.npz\"\n",
    "[omegaID2CCW, EVDiffvacCCW_lin] = readEigenvalueData(resultFile);\n",
    "\n",
    "#full PDE\n",
    "#CW eigenvalue differences\n",
    "Directory = ID2CW_full_datadir + '/' + vacuumSubdir;\n",
    "os.chdir(Directory)\n",
    "resultFile = \"Results_Exp_0.npz\"\n",
    "[omegaID2CW, EVDiffvacCW_full] = readEigenvalueData(resultFile);\n",
    "\n",
    "#CCW eigenvalue differences\n",
    "Directory = ID2CCW_full_datadir + '/' + vacuumSubdir;\n",
    "os.chdir(Directory);\n",
    "resultFile = \"Results_Exp_0.npz\"\n",
    "[omegaID2CCW, EVDiffvacCCW_full] = readEigenvalueData(resultFile);\n",
    "\n",
    "#return to origin\n",
    "os.chdir(origin)\n",
    "R0 = max(R0Dict[\"ID2_1\"], R0Dict[\"ID2_2\"]);"
   ]
  },
  {
   "cell_type": "markdown",
   "metadata": {},
   "source": [
    "Plot"
   ]
  },
  {
   "cell_type": "code",
   "execution_count": 45,
   "metadata": {
    "collapsed": false
   },
   "outputs": [],
   "source": [
    "fig, ax = plt.subplots();\n",
    "#ground state\n",
    "ax.loglog(x[1:], EVDiffvacCW_lin[GSIdx][1:] - EVDiffvacCCW_lin[GSIdx][1:], marker=mark1, linestyle=ls1, color=color1,\n",
    "         linewidth=lw)\n",
    "#ninth excited\n",
    "ax.loglog(x[1:], EVDiffvacCW_full[GSIdx][1:] -EVDiffvacCCW_full[GSIdx][1:], marker=mark2, linestyle=ls1, color=color1,\n",
    "         lw=lw)\n",
    "\n",
    "ax.set_xlabel(\"$\\\\frac{R_0\\omega}{c}$\", size='x-large')\n",
    "ax.set_ylabel(\"$|\\Delta\\lambda_{CW}| - |\\Delta\\lambda_{CCW}|\\;\\left[\\\\frac{1}{m}\\\\right]$\", size='large')\n",
    "\n",
    "ax.legend( (\"linearized PDE\", \"full PDE\"),  loc='best', framealpha=0.5 )\n",
    "ax.grid()\n",
    "slope_marker((1e-3,1e-8), (2,1), 0.125, 0.15, ax, ec='black', linestyle='solid',\\\n",
    "             lw='1.5', fill=False)\n",
    "ax.axvspan(5*1e-1, max(x), facecolor='none', hatch='x', alpha=0.1)\n",
    "ax.set_xlim(min(x), 1e-1);\n",
    "#label size\n",
    "plt.tick_params(axis='both', which='major', labelsize=lsize)\n",
    "fig.tight_layout();\n",
    "fig.savefig(\"ID2_Aniso_CW_vs_CCW_difference_vacuum.eps\", format='eps', dpi=resolution);\n",
    "plt.show()"
   ]
  }
 ],
 "metadata": {
  "kernelspec": {
   "display_name": "Python 2",
   "language": "python",
   "name": "python2"
  },
  "language_info": {
   "codemirror_mode": {
    "name": "ipython",
    "version": 2
   },
   "file_extension": ".py",
   "mimetype": "text/x-python",
   "name": "python",
   "nbconvert_exporter": "python",
   "pygments_lexer": "ipython2",
   "version": "2.7.11"
  }
 },
 "nbformat": 4,
 "nbformat_minor": 0
}
