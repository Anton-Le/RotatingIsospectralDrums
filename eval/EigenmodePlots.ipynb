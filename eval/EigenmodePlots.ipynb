{
 "cells": [
  {
   "cell_type": "markdown",
   "metadata": {},
   "source": [
    "## Notebook for plotting the eigenmodes of the simple isospectral domains computed using $\\mathcal{P}_1$ finite elements.\n",
    "\n",
    "The eigenmodes are drawn for the ground state as well as the 9-th excited state. For the latter analytic solutions exist in the case of $\\omega=0$"
   ]
  },
  {
   "cell_type": "markdown",
   "metadata": {},
   "source": [
    "Experiment data. The eigenmodes are indexed by angular frequency $\\omega$ in a dictionary, which itself is indexed by a tuple containing the domain prefix, the index of refraction and the mode number.\n",
    "**Note**: The data has been collected manually and the plots are not fully automated. To change the eigenvalue to be drawn one should change the indices of the modes to be drawn. The appropriate indices are provided below. If an index is negative one should prepend a minus sign to the eigenmode to invert it."
   ]
  },
  {
   "cell_type": "code",
   "execution_count": 1,
   "metadata": {
    "collapsed": true
   },
   "outputs": [],
   "source": [
    "DataLin = {(\"ID1_1\", 1, 1):{0:[-1,2], 661.53900:[1,2],58891200.00000:[1,-3],132919000.00000:[0,3] },\n",
    "        (\"ID1_1\", 2.42, 1):{0:[0,1], 661.53900:[1,2],58891200.00000:[1,-3],132919000.00000:[0] },\n",
    "        (\"ID1_1\", 1, 9):{0:[16,17], 661.53900:[16,17],58891200.00000:[16,-17],132919000.00000:[16,-17] },\n",
    "        (\"ID1_1\", 2.42, 9):{0:[16,17], 661.53900:[16,-17],58891200.00000:[16,-17],132919000.00000:[16,-17] },\n",
    "        (\"ID2_1\", 1, 1):{0:[0,2], 661.53900:[0,-3],58891200.00000:[0,1],132919000.00000:[0,1] },\n",
    "        (\"ID2_1\", 2.42, 1):{0:[0,-2], 661.53900:[0,2],58891200.00000:[0,1],132919000.00000:[0,1] }\n",
    "       };\n",
    "DataFull = {(\"ID1_1\", 1, 1):{0:[1,2], 661.53900:[0,1],58891200.00000:[1],132919000.00000:[1] },\n",
    "        (\"ID1_1\", 2.42, 1):{0:[0,1], 661.53900:[0,1],58891200.00000:[0],132919000.00000:[0] },\n",
    "        (\"ID1_1\", 1, 9):{0:[16,-17], 661.53900:[16,-17],58891200.00000:[16,-17],132919000.00000:[16,-17] },\n",
    "        (\"ID1_1\", 2.42, 9):{0:[16,-17], 661.53900:[16,17],58891200.00000:[16,-17],132919000.00000:[16,-17] },\n",
    "        (\"ID2_1\", 1, 1):{0:[0,2], 661.53900:[0,-2],58891200.00000:[0,1],132919000.00000:[2,3] },\n",
    "        (\"ID2_1\", 2.42, 1):{0:[0,-3], 661.53900:[0,-3],58891200.00000:[1,2],132919000.00000:[0,1] }\n",
    "       };\n",
    "Folders = { \"ID1_1 linear\": \"../data/ID1/P1_EigVecExperiment\",\n",
    "          \"ID1_1 full\" : \"../data/ID1/P1_Full_EigVecExperiment\",\n",
    "          \"ID2_1 linear\" : \"../data/ID2/P1_EigVecExperiment\",\n",
    "          \"ID2_1 full\" : \"../data/ID2/P1_Full_EigVecExperiment\"};"
   ]
  },
  {
   "cell_type": "code",
   "execution_count": 2,
   "metadata": {
    "collapsed": true
   },
   "outputs": [],
   "source": [
    "from matplotlib import pyplot as plt\n",
    "import numpy as np\n",
    "import matplotlib.tri as tri\n",
    "from scipy.constants import codata\n",
    "import scipy as sp\n",
    "import matplotlib.colors\n",
    "from mpl_toolkits.axes_grid1 import AxesGrid\n",
    "import os, shutil, sys\n",
    "from PlotFunctions import *\n",
    "c = sp.constants.value('speed of light in vacuum');"
   ]
  },
  {
   "cell_type": "markdown",
   "metadata": {},
   "source": [
    "Define the path where the data can be found and change into the directory"
   ]
  },
  {
   "cell_type": "code",
   "execution_count": 3,
   "metadata": {
    "collapsed": true
   },
   "outputs": [],
   "source": [
    "for param in DataLin.keys():\n",
    "    folder = \"\"\n",
    "    if param[0] == \"ID1_1\" :\n",
    "        folder = Folders[\"ID1_1 linear\"];\n",
    "    else:\n",
    "        folder = Folders[\"ID1_1 full\"];\n",
    "    experiment = \"\"\n",
    "    if param[1] == 1:\n",
    "        experiment = \"Exp_0\";\n",
    "    else:\n",
    "        experiment = \"Exp_1\";\n",
    "    destination = folder + '/' + experiment\n",
    "    os.chdir(destination)"
   ]
  },
  {
   "cell_type": "code",
   "execution_count": 4,
   "metadata": {
    "collapsed": false
   },
   "outputs": [
    {
     "name": "stdout",
     "output_type": "stream",
     "text": [
      "/home/shared/FEM_EV_NumExp/Data/CorrectedShift/P1_Full_EigVecExperiment/Exp_0\n"
     ]
    }
   ],
   "source": [
    "cd ../data/P1_Full_EigVecExperiment/Exp_0"
   ]
  },
  {
   "cell_type": "markdown",
   "metadata": {},
   "source": [
    "Define the domain prefix."
   ]
  },
  {
   "cell_type": "code",
   "execution_count": 5,
   "metadata": {
    "collapsed": true
   },
   "outputs": [],
   "source": [
    "domain = \"ID1_2\""
   ]
  },
  {
   "cell_type": "code",
   "execution_count": 6,
   "metadata": {
    "collapsed": true
   },
   "outputs": [],
   "source": [
    "vertexFilename = \"Plot_Vertices_\"+domain+\".dat\"\n",
    "elementFilename = \"Plot_Elements_\"+domain+\".dat\"\n",
    "ModeFile_low = \"Eigenvalues_\"+domain+\"_omega_661.53900.dat\"\n",
    "ModeFile_med = \"Eigenvalues_\"+domain+\"_omega_58891200.00000.dat\"\n",
    "ModeFile_high = \"Eigenvalues_\"+domain+\"_omega_132919000.00000.dat\""
   ]
  },
  {
   "cell_type": "markdown",
   "metadata": {},
   "source": [
    "Indices of the eigenvectors which should be drawn"
   ]
  },
  {
   "cell_type": "code",
   "execution_count": 7,
   "metadata": {
    "collapsed": true
   },
   "outputs": [],
   "source": [
    "GSIdx_stat = 2;\n",
    "NSIdx_stat = 17;\n",
    "#first angular frequency\n",
    "GSIdx_low = 1;\n",
    "NSIdx_low = 17;\n",
    "#second angular frequency\n",
    "GSIdx_med = 1;\n",
    "NSIdx_med = 16;\n",
    "#third angular frequency\n",
    "GSIdx_high = 1;\n",
    "NSIdx_high = 16;"
   ]
  },
  {
   "cell_type": "markdown",
   "metadata": {},
   "source": [
    "Initialize the triangulation"
   ]
  },
  {
   "cell_type": "code",
   "execution_count": 8,
   "metadata": {
    "collapsed": false
   },
   "outputs": [],
   "source": [
    "triangulationOwn = readTriangulation(vertexFilename, elementFilename);"
   ]
  },
  {
   "cell_type": "markdown",
   "metadata": {},
   "source": [
    "Load the static eigenmodes"
   ]
  },
  {
   "cell_type": "code",
   "execution_count": 9,
   "metadata": {
    "collapsed": false
   },
   "outputs": [],
   "source": [
    "ModeFile_stat = \"Eigenvalues_\"+domain+\"_omega_0.00000.dat\";\n",
    "EVstat = readEigenmodes(ModeFile_stat)\n",
    "GSstat = -EVstat[:,GSIdx_stat];\n",
    "NSstat = EVstat[:,NSIdx_stat];"
   ]
  },
  {
   "cell_type": "code",
   "execution_count": 10,
   "metadata": {
    "collapsed": false
   },
   "outputs": [],
   "source": [
    "EVlow = readEigenmodes(ModeFile_low);\n",
    "EVmed = readEigenmodes(ModeFile_med);\n",
    "EVhigh = readEigenmodes(ModeFile_high);"
   ]
  },
  {
   "cell_type": "markdown",
   "metadata": {},
   "source": [
    "Choose the appropriate dynamic eigenmodes"
   ]
  },
  {
   "cell_type": "code",
   "execution_count": 11,
   "metadata": {
    "collapsed": false
   },
   "outputs": [],
   "source": [
    "GS = np.zeros( (len(EVlow[:,0]), 3), dtype=complex );\n",
    "GS[:,0] = EVlow[:,GSIdx_low]; \n",
    "GS[:,1] = EVmed[:,GSIdx_med];\n",
    "GS[:,2] = EVhigh[:,GSIdx_high];"
   ]
  },
  {
   "cell_type": "code",
   "execution_count": 12,
   "metadata": {
    "collapsed": true
   },
   "outputs": [],
   "source": [
    "NS = np.zeros( (len(EVlow[:,0]), 3), dtype=complex );\n",
    "NS[:,0] = EVlow[:,NSIdx_low]# - EVlow[:,17]; \n",
    "NS[:,1] = EVmed[:,NSIdx_med]#-EVmed[:,17];\n",
    "NS[:,2] = EVhigh[:,NSIdx_high]#-EVhigh[:,17];"
   ]
  },
  {
   "cell_type": "markdown",
   "metadata": {},
   "source": [
    "Compute the differences"
   ]
  },
  {
   "cell_type": "code",
   "execution_count": 13,
   "metadata": {
    "collapsed": true
   },
   "outputs": [],
   "source": [
    "#ninth state\n",
    "NSdiff = np.zeros( (len(EVlow[:,0]), 3), dtype=complex );\n",
    "NSdiff[:,0] = NS[:,0] - NSstat\n",
    "NSdiff[:,1] = NS[:,1] - NSstat\n",
    "NSdiff[:,2] = NS[:,2] - NSstat\n",
    "#ground state\n",
    "GSdiff = np.zeros( (len(EVlow[:,0]), 3), dtype=complex );\n",
    "GSdiff[:,0] = GS[:,0] - GSstat\n",
    "GSdiff[:,1] = GS[:,1] - GSstat\n",
    "GSdiff[:,2] = GS[:,2] - GSstat"
   ]
  },
  {
   "cell_type": "markdown",
   "metadata": {},
   "source": [
    "Define a function which will add interior labels to a figure"
   ]
  },
  {
   "cell_type": "markdown",
   "metadata": {},
   "source": [
    "Draw the eigenmodes and their deviation from the static eigenmode for $\\lambda_1,\\lambda_9$ \n",
    "into two separate subplots.\n",
    "\n",
    "An array plot combining all eigenmodes and their deviations is confusing.\n",
    "Use 2 figures"
   ]
  },
  {
   "cell_type": "markdown",
   "metadata": {},
   "source": [
    "Colorbar normalization for the eigenstates"
   ]
  },
  {
   "cell_type": "code",
   "execution_count": 14,
   "metadata": {
    "collapsed": false
   },
   "outputs": [],
   "source": [
    "vmaxGS = max(abs(GS[:,0:2].flatten()))\n",
    "vminGS = np.real( min(GS[:,0:2].flatten()) )\n",
    "\n",
    "vmaxNS = max(abs(NS[:,0:2].flatten()))\n",
    "vminNS = np.real( min(NS[:,0:2].flatten()) )\n",
    "\n",
    "normGS = matplotlib.colors.Normalize(vmax=vmaxGS, vmin=vminGS)\n",
    "normNS = matplotlib.colors.Normalize(vmax=vmaxNS, vmin=vminNS)"
   ]
  },
  {
   "cell_type": "markdown",
   "metadata": {},
   "source": [
    "Colorbar normalization for the differences"
   ]
  },
  {
   "cell_type": "code",
   "execution_count": 15,
   "metadata": {
    "collapsed": false
   },
   "outputs": [],
   "source": [
    "vmaxGSdiff = max(abs(GSdiff[:,0:2].flatten()))\n",
    "vminGSdiff = np.real( min(GSdiff[:,0:2].flatten()) )\n",
    "\n",
    "vmaxNSdiff = max(abs(NSdiff[:,0:2].flatten()))\n",
    "vminNSdiff = np.real( min(NSdiff[:,0:2].flatten()) )\n",
    "\n",
    "normGSdiff = matplotlib.colors.Normalize(vmax=vmaxGSdiff, vmin=vminGSdiff)\n",
    "normNSdiff = matplotlib.colors.Normalize(vmax=vmaxNSdiff, vmin=vminNSdiff)"
   ]
  },
  {
   "cell_type": "markdown",
   "metadata": {},
   "source": [
    "Draw the eigenmodes and their deviations for $\\lambda_1$"
   ]
  },
  {
   "cell_type": "code",
   "execution_count": 16,
   "metadata": {
    "collapsed": false
   },
   "outputs": [],
   "source": [
    "PlotEigenmodes(GS, GSdiff, triangulationOwn, normGS, normGSdiff, xticklabels=[-3,-2,-1,0,1,2,3],\\\n",
    "               yticklabels=[-4,-3,-2,-1,0,1,2], show=True, save=False)"
   ]
  },
  {
   "cell_type": "markdown",
   "metadata": {},
   "source": [
    "Do the same for $\\lambda_9$"
   ]
  },
  {
   "cell_type": "code",
   "execution_count": 17,
   "metadata": {
    "collapsed": true
   },
   "outputs": [],
   "source": [
    "PlotEigenmodes(NS, NSdiff, triangulationOwn, normNS, normNSdiff, xticklabels=[-3,-2,-1,0,1,2,3],\\\n",
    "               yticklabels=[-4,-3,-2,-1,0,1,2], show=True, save=False)"
   ]
  },
  {
   "cell_type": "markdown",
   "metadata": {},
   "source": [
    "Testbed for further plots"
   ]
  },
  {
   "cell_type": "code",
   "execution_count": 23,
   "metadata": {
    "collapsed": false
   },
   "outputs": [],
   "source": [
    "GSIdx_stat = 2;\n",
    "NSIdx_stat = 16;\n",
    "#first angular frequency\n",
    "GSIdx_low = 0;\n",
    "NSIdx_low = 16;\n",
    "#second angular frequency\n",
    "GSIdx_med = 0;\n",
    "NSIdx_med = 18;\n",
    "#third angular frequency\n",
    "GSIdx_high = 3;\n",
    "NSIdx_high = 16;\n",
    "\n",
    "plt.figure()\n",
    "plt.tripcolor(triangulationOwn,-np.real(EVstat[:,GSIdx_stat]), shading='gouraud', cmap=plt.cm.viridis)\n",
    "plt.colorbar()\n",
    "plt.tight_layout()\n",
    "plt.show()"
   ]
  },
  {
   "cell_type": "markdown",
   "metadata": {},
   "source": [
    "Determine the maximum of the ground state"
   ]
  },
  {
   "cell_type": "code",
   "execution_count": 24,
   "metadata": {
    "collapsed": false
   },
   "outputs": [
    {
     "name": "stdout",
     "output_type": "stream",
     "text": [
      "x:  1.60417  y:  -0.453869\n"
     ]
    }
   ],
   "source": [
    "GS = -np.real(EVstat[:,GSIdx_stat]);\n",
    "maxIdx = np.argmax(GS)\n",
    "print \"x: \",triangulationOwn.x[maxIdx], \" y: \", triangulationOwn.y[maxIdx]"
   ]
  }
 ],
 "metadata": {
  "kernelspec": {
   "display_name": "Python 2",
   "language": "python",
   "name": "python2"
  },
  "language_info": {
   "codemirror_mode": {
    "name": "ipython",
    "version": 2
   },
   "file_extension": ".py",
   "mimetype": "text/x-python",
   "name": "python",
   "nbconvert_exporter": "python",
   "pygments_lexer": "ipython2",
   "version": "2.7.11"
  }
 },
 "nbformat": 4,
 "nbformat_minor": 0
}
