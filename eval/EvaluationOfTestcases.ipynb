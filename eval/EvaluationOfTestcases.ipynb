{
 "cells": [
  {
   "cell_type": "markdown",
   "metadata": {},
   "source": [
    "# A notebook with evaluations of the validation cases.\n",
    "The evaluation of the cases of the unit disc, the unit square and static isospectral domains is implemented here.\n",
    "## The Unit Disc\n",
    "The numeric results were computed with COMSOL. The evaulation is as follows:\n",
    "- Plot the evloution of the eigenvalues $\\lambda_0, \\lambda_2$.\n",
    "- Eigenvalues distinguished by *color*\n",
    "- Plot the growth factors for $\\frac{R_0\\omega}{c},2\\cdot\\left(\\frac{R_0\\omega}{c}\\right)$ with $R_0=1$.\n",
    "- x-axis $\\frac{R_0\\omega}{c}$ dimensionless.\n",
    "- y-axis $\\vert\\lambda_{num} - \\lambda_{an,stat}\\vert\\;\\left[\\frac{1}{m}\\right]$.\n",
    "\n",
    "## The Unit Square\n",
    "\n",
    "## Static Isospectral Domains\n",
    "Results obtained with COMSOL.\n",
    "- Plot the deviation of the eigenvalues of domain 1 and domain 2 from Driscoll as a bar chart.\n",
    "- x-axis : Eigenmode index\n",
    "- y-axis: $\\vert\\lambda_{num}-\\lambda_{ref}\\vert$.\n",
    "\n",
    "## Sunada and Harayama Cavity\n",
    "Results obtained with COMSOL.\n",
    "- Plot the deviation of the eigenvalues, scaled by the mean radius of the cavity $R_0$, as a function of the non-dimensional angular frequency $\\frac{R_0\\omega}{c}$.\n",
    "- Add a slope triangle with slope $1$ to indicate the growth.\n",
    "- Perhaps use interpolation of the two parts of the graph to determine the (non-dimensional) angular frequency where the cavity becomes a \"circle\".\n",
    "\n",
    "## Polynomial Degree Studies\n",
    "Using results obtained with own code draw the behaviour of the anisospectrality of the ground state $\\lambda_1$ and the ninth excited state $\\lambda_9$ for the first pair of isospectral domains for different orders of ansatz polynomials. For vacuum and diamond separately.\n",
    "\n",
    "## Basic Studies\n",
    "Manually run tests"
   ]
  },
  {
   "cell_type": "markdown",
   "metadata": {},
   "source": [
    "Load the necessary libraries"
   ]
  },
  {
   "cell_type": "code",
   "execution_count": 1,
   "metadata": {
    "collapsed": true
   },
   "outputs": [],
   "source": [
    "import numpy as np\n",
    "import scipy as sp\n",
    "import os, shutil, sys, re\n",
    "from matplotlib import pyplot as plt\n",
    "from scipy.constants import codata\n",
    "from mpl_toolkits.mplot3d import Axes3D\n",
    "from matplotlib import colors\n",
    "from slope_marker import *\n",
    "from PlotFunctions import readEigenvalueData\n",
    "from scipy import special"
   ]
  },
  {
   "cell_type": "markdown",
   "metadata": {},
   "source": [
    "Store the current directory as the point of origin"
   ]
  },
  {
   "cell_type": "code",
   "execution_count": 2,
   "metadata": {
    "collapsed": true
   },
   "outputs": [],
   "source": [
    "origin = os.getcwd();"
   ]
  },
  {
   "cell_type": "markdown",
   "metadata": {},
   "source": [
    "Fetch the CODATA value for the speed of light"
   ]
  },
  {
   "cell_type": "code",
   "execution_count": 3,
   "metadata": {
    "collapsed": true
   },
   "outputs": [],
   "source": [
    "c = sp.constants.value('speed of light in vacuum');"
   ]
  },
  {
   "cell_type": "markdown",
   "metadata": {},
   "source": [
    "## Further notes\n",
    "The plots 2,3,4,5 are to be made for vacuum and diamond (data subdirectories Exp_0 and Exp_2).\n",
    "Whenever 2 colors are required (to distinguish domains) the following are used:  darkred, darkgreen.\n",
    "\n",
    "Similarly, the two distinct line styles are: solid, dotted\n",
    "\n",
    "Similarly, the two distinct markers are: 'o' - filled circle, 'x' - cross\n",
    "\n",
    "The resolution for the images should be 1000 dpi.\n",
    "\n",
    "The indices of the ground state and the 9th excited state are -1, 1 by merit of ARPACK\n",
    "returning a list of eigenvalues sorted from smaller to larger considering the signs.\n",
    "\n",
    "*It is assumed that the data in the directories has been pre-evaluated using EvalScript.py* Such that the collective data is stored in the .npz files.\n",
    "\n",
    "** The side length for the first pair is 2, not 1 **\n",
    "\n",
    "The $\\omega$ values used in eigenmode plots are:\n",
    "$\\omega_1 = 661.539$\n",
    "$\\omega_2 = 58891200$\n",
    "$\\omega_3 = 132919000$"
   ]
  },
  {
   "cell_type": "code",
   "execution_count": 4,
   "metadata": {
    "collapsed": true
   },
   "outputs": [],
   "source": [
    "vacuumSubdir = \"Exp_0\"\n",
    "diamondSubdir = \"Exp_1\"\n",
    "color1 = 'darkred'\n",
    "color2 = 'darkgreen'\n",
    "ls1 = 'solid'\n",
    "ls2 = ':'\n",
    "mark1 = 'o'\n",
    "mark2 = 'd'\n",
    "lsize=14\n",
    "resolution = 1000\n",
    "GSIdx = -1\n",
    "NSIdx = 1\n",
    "lw = 2.5\n",
    "omega1 = 661.539\n",
    "omega2 = 58891200\n",
    "omega3 = 132919000"
   ]
  },
  {
   "cell_type": "markdown",
   "metadata": {},
   "source": [
    "Define evaluation functions"
   ]
  },
  {
   "cell_type": "code",
   "execution_count": 5,
   "metadata": {
    "collapsed": true
   },
   "outputs": [],
   "source": [
    "def ReadInput(datafiles, readOmega = False, omegaIdx=0, evIdx=-1):\n",
    "    EvInput = []\n",
    "    XValInput = []\n",
    "    for k in range(len(datafiles)):\n",
    "        Input = open(datafiles[k], 'r')\n",
    "        RawDataEv = []\n",
    "        RawXVal = []\n",
    "        for line in Input:\n",
    "            data = line.split();\n",
    "            if data[0]==\"%\":\n",
    "                continue;\n",
    "            else:\n",
    "                RawDataEv.append(float(data[evIdx]));\n",
    "                if readOmega==True:\n",
    "                    RawXVal.append(float(data[omegaIdx]));\n",
    "\n",
    "        EvInput.append(RawDataEv)\n",
    "        XValInput.append(RawXVal)\n",
    "        Input.close()\n",
    "    print np.shape(EvInput)\n",
    "    if readOmega == True:\n",
    "        return XValInput, EvInput;\n",
    "    else:\n",
    "        return EvInput;\n",
    "    \n",
    "def EVRectangle(l=1, m=1, Lx=1, Ly=1, Neumann=False):\n",
    "    if Neumann==True:\n",
    "        return np.pi*np.sqrt( (l/Lx)**2+(m/Ly)**2 )\n",
    "    else:\n",
    "        return np.pi*np.sqrt( (l+1/Lx)**2+(m+1/Ly)**2 )\n",
    "        \n",
    "def EVDisk(m=1, N=1, r=1, Neumann=False):\n",
    "    if Neumann==True:\n",
    "        return special.jnp_zeros(m, N)/r;\n",
    "    else:\n",
    "        return special.jn_zeros(m, N)/r;\n",
    "    \n",
    "def AnalyticEVRectangle(Neig=10, Neumann=False, Lx=1, Ly=1 ):\n",
    "    k = 0\n",
    "    EVlist = []\n",
    "    maxIter = int( np.ceil( 0.5*(1+np.sqrt(1.0+8*Neig))))\n",
    "    for i in xrange(maxIter):\n",
    "        if k>=Neig:\n",
    "            break\n",
    "        for j in xrange(i+1):\n",
    "            if k>= Neig:\n",
    "                break;\n",
    "            if j==i:\n",
    "                EVlist.append(EVRectangle(i,j, Lx,Ly, Neumann))\n",
    "                EVlist.append(EVRectangle(i,j, Lx,Ly, Neumann))\n",
    "                k+=2;\n",
    "                continue;\n",
    "            else:\n",
    "                EVlist.append(EVRectangle(i,j, Lx,Ly, Neumann))\n",
    "                EVlist.append(EVRectangle(j,i, Lx,Ly, Neumann))\n",
    "                EVlist.append(EVRectangle(i,j, Lx,Ly, Neumann))\n",
    "                EVlist.append(EVRectangle(j,i, Lx,Ly, Neumann))\n",
    "                k+=4\n",
    "\n",
    "    return np.array(EVlist)\n",
    "            \n",
    "def AnalyticEVCircle(Neig=10, Neumann=False, R=1):\n",
    "    EVList = []\n",
    "    maxM = Neig/2\n",
    "    #collect eigenvalues\n",
    "    for i in xrange(maxM):\n",
    "        EVList+=EVDisk(i, maxM, R, Neumann).tolist()\n",
    "        if i != 0:\n",
    "            EVList+=EVDisk(i, maxM, R, Neumann).tolist()\n",
    "    #sort the list\n",
    "    if Neumann==True:\n",
    "        EVList.append(0.0)\n",
    "    EVList.sort() \n",
    "\n",
    "    return np.array(EVList[0:Neig])"
   ]
  },
  {
   "cell_type": "markdown",
   "metadata": {},
   "source": [
    "## The Unit Disc\n",
    "\n",
    "Fetch the data "
   ]
  },
  {
   "cell_type": "code",
   "execution_count": 6,
   "metadata": {
    "collapsed": false
   },
   "outputs": [
    {
     "name": "stdout",
     "output_type": "stream",
     "text": [
      "(2, 20)\n"
     ]
    }
   ],
   "source": [
    "CircleDir = \"../data/COMSOL/Circle\"\n",
    "os.chdir(CircleDir);\n",
    "datafiles = [\"EV_Stat_D.txt\", \"EV_Stat_N.txt\"];\n",
    "Eval = ReadInput(datafiles);"
   ]
  },
  {
   "cell_type": "markdown",
   "metadata": {},
   "source": [
    "Split the eigenvalues and retain only those obtained for the Dirichlet boundary condition"
   ]
  },
  {
   "cell_type": "code",
   "execution_count": 7,
   "metadata": {
    "collapsed": true
   },
   "outputs": [],
   "source": [
    "EvalArr = np.array(Eval);\n",
    "EigVal = EvalArr[0,:];"
   ]
  },
  {
   "cell_type": "markdown",
   "metadata": {},
   "source": [
    "Determine analytic eigenvalues"
   ]
  },
  {
   "cell_type": "code",
   "execution_count": 8,
   "metadata": {
    "collapsed": false
   },
   "outputs": [],
   "source": [
    "EVAnD = AnalyticEVCircle(len(EigVal));"
   ]
  },
  {
   "cell_type": "markdown",
   "metadata": {},
   "source": [
    "Sort"
   ]
  },
  {
   "cell_type": "code",
   "execution_count": 9,
   "metadata": {
    "collapsed": true
   },
   "outputs": [],
   "source": [
    "#duplicate\n",
    "tmp = np.array([EVAnD, EVAnD])\n",
    "EVAnD = tmp.flatten()\n",
    "#sort\n",
    "EVAnD.sort()\n",
    "EigVal.sort()\n",
    "\n",
    "#compute the absolute deviation\n",
    "Diff = abs(EigVal[0:len(EigVal)] - EVAnD[0:len(EigVal)])"
   ]
  },
  {
   "cell_type": "markdown",
   "metadata": {},
   "source": [
    "Read the results of the simulation and return to origin"
   ]
  },
  {
   "cell_type": "code",
   "execution_count": 10,
   "metadata": {
    "collapsed": false
   },
   "outputs": [
    {
     "name": "stdout",
     "output_type": "stream",
     "text": [
      "(4, 20)\n"
     ]
    }
   ],
   "source": [
    "datafiles = [\"Lin_GS_D.txt\", \"Lin_GS_N.txt\",\n",
    "    \"Lin_MS_D.txt\", \"Lin_MS_N.txt\"];\n",
    "omega, Eval = ReadInput(datafiles, True);\n",
    "\n",
    "#choose the ground and maximum states\n",
    "GSEVD_num = np.array(Eval[0])\n",
    "MSEVD_num = np.array(Eval[2])\n",
    "os.chdir(origin);"
   ]
  },
  {
   "cell_type": "markdown",
   "metadata": {},
   "source": [
    "Determine the analytic counterparts to the eigenvalues and the appropriate masks"
   ]
  },
  {
   "cell_type": "code",
   "execution_count": 11,
   "metadata": {
    "collapsed": true
   },
   "outputs": [],
   "source": [
    "#determine the analytic counterparts to the eigenvalues\n",
    "mask = np.where(abs(EVAnD - GSEVD_num[0])<1e-4)\n",
    "GSEVD_an = EVAnD[mask[0][0]]\n",
    "    \n",
    "mask = np.where(abs(EVAnD - MSEVD_num[0])<1e-4)\n",
    "MSEVD_an = EVAnD[mask[0][0]]\n",
    "#compute the deviation of the Dirichlet eigenvalues\n",
    "GSdevD = abs( GSEVD_num - GSEVD_an)\n",
    "MSdevD = abs( MSEVD_num - MSEVD_an)\n",
    "    \n",
    "#mask for omega\n",
    "maskGS = np.where(abs(GSEVD_num - GSEVD_an)<1e-1)\n",
    "maskMS = np.where(abs(MSEVD_num - MSEVD_an)<1e-1)\n",
    "#store for later plots\n",
    "maskGSD = maskGS\n",
    "maskMSD = maskMS"
   ]
  },
  {
   "cell_type": "markdown",
   "metadata": {},
   "source": [
    "Parameters for plots"
   ]
  },
  {
   "cell_type": "code",
   "execution_count": 12,
   "metadata": {
    "collapsed": true
   },
   "outputs": [],
   "source": [
    "R0 = 1.0\n",
    "#linear increase plots\n",
    "x = np.array(omega[0])*R0/c;\n",
    "yLin1 = x;\n",
    "yLin2 = 2*x;"
   ]
  },
  {
   "cell_type": "markdown",
   "metadata": {},
   "source": [
    "Plot"
   ]
  },
  {
   "cell_type": "code",
   "execution_count": 13,
   "metadata": {
    "collapsed": true
   },
   "outputs": [],
   "source": [
    "fig, ax = plt.subplots()\n",
    "#numerical results\n",
    "ax.loglog(np.array(omega[0])[maskGS[0]]*R0/c, GSdevD, marker=mark1, color=color1, linestyle=ls1, lw=lw);\n",
    "ax.loglog(np.array(omega[2])[maskMS[0]]*R0/c, MSdevD, marker=mark2, color=color2, linestyle=ls2, lw=lw);\n",
    "\n",
    "#analytic results\n",
    "ax.loglog(x,yLin1, 'k--', x, yLin2, 'k-');\n",
    "\n",
    "plt.xlabel(\"$\\\\frac{R_0\\omega}{c}$\", size='xx-large')\n",
    "plt.ylabel(\"$|\\lambda_{num}-\\lambda_{an,stat}|\\;\\left[\\\\frac{1}{m}\\\\right]$\", size='x-large')\n",
    "plt.grid()\n",
    "\n",
    "plt.legend((\"Ground state\", \"Highest computed\", \"$\\\\frac{R_0\\omega}{c}$\", \"$2\\cdot\\left(\\\\frac{R_0\\Omega}{c}\\\\right)$\"),\n",
    "          loc='best');\n",
    "plt.title(\"Deviation from static analytic eigenvalue, Dirichlet BC\");\n",
    "#fit\n",
    "plt.xlim(min(x), max(x));\n",
    "#label size\n",
    "plt.tick_params(axis='both', which='major', labelsize=lsize)\n",
    "plt.tight_layout();\n",
    "plt.savefig(\"Results_UnitDisc.eps\", format='eps', dpi=resolution)\n",
    "plt.show()"
   ]
  },
  {
   "cell_type": "markdown",
   "metadata": {},
   "source": [
    "Print the maximal deviation from the predicted analytic evolution of the second state"
   ]
  },
  {
   "cell_type": "code",
   "execution_count": 14,
   "metadata": {
    "collapsed": false
   },
   "outputs": [
    {
     "data": {
      "text/plain": [
       "0.033356409519815208"
      ]
     },
     "execution_count": 14,
     "metadata": {},
     "output_type": "execute_result"
    }
   ],
   "source": [
    "EVDev = abs( np.array(omega[0])[maskGS[0]]*R0/c - yLin2)\n",
    "max(EVDev)"
   ]
  },
  {
   "cell_type": "markdown",
   "metadata": {},
   "source": [
    "## The Unit Square\n",
    "\n",
    "Read the data"
   ]
  },
  {
   "cell_type": "code",
   "execution_count": 15,
   "metadata": {
    "collapsed": false
   },
   "outputs": [],
   "source": [
    "SquareDir = \"../data/Rectangle/Exp_0\"\n",
    "os.chdir(SquareDir);\n",
    "\n",
    "omegaNodal = [];\n",
    "EVNodal = [];\n",
    "inputfile = open(\"output.dat\", 'r')\n",
    "lineIdx=0;\n",
    "for line in inputfile:\n",
    "    data = line.split()\n",
    "    if lineIdx==0 :\n",
    "        for el in data:\n",
    "            omegaNodal.append(float(el));\n",
    "    else:\n",
    "        EigValRow = []\n",
    "        for el in data:\n",
    "            EigValRow.append(float(el.split('+')[0]));\n",
    "        EVNodal.append(EigValRow);\n",
    "    lineIdx+=1;\n",
    "\n",
    "EVNodalArray = abs(np.array(EVNodal));\n",
    "omegaArrNodal = np.array(omegaNodal);\n",
    "os.chdir(origin)"
   ]
  },
  {
   "cell_type": "markdown",
   "metadata": {},
   "source": [
    "Read the static data and compute the deviations"
   ]
  },
  {
   "cell_type": "markdown",
   "metadata": {},
   "source": [
    "Load the modal decomposition"
   ]
  },
  {
   "cell_type": "code",
   "execution_count": 17,
   "metadata": {
    "collapsed": false
   },
   "outputs": [],
   "source": [
    "ModalDir=\"../data/Modal\"\n",
    "os.chdir(ModalDir)\n",
    "omega = []\n",
    "GSlist = []\n",
    "FirstStateList = []\n",
    "SecondStateList = []\n",
    "#read the ground state\n",
    "inputfile = open(\"GroundStateDeviationMathematica.dat\", 'r');\n",
    "for line in inputfile:\n",
    "    data = line.split();\n",
    "    omega.append(float(data[0]));\n",
    "    GSlist.append(float(data[-1]));\n",
    "inputfile.close\n",
    "#read the first excited state\n",
    "inputfile = open(\"FirstStateDeviationMathematica.dat\", 'r');\n",
    "for line in inputfile:\n",
    "    data = line.split()\n",
    "    FirstStateList.append(float(data[-1]));\n",
    "inputfile.close()\n",
    "#read the second excited state\n",
    "inputfile = open(\"SecondStateDeviationMathematica.dat\", 'r');\n",
    "for line in inputfile:\n",
    "    data = line.split()\n",
    "    SecondStateList.append(float(data[-1]));\n",
    "inputfile.close()\n",
    "\n",
    "os.chdir(origin)"
   ]
  },
  {
   "cell_type": "markdown",
   "metadata": {},
   "source": [
    "Convert to arrays"
   ]
  },
  {
   "cell_type": "code",
   "execution_count": 18,
   "metadata": {
    "collapsed": true
   },
   "outputs": [],
   "source": [
    "omegaModal = np.array(omega);\n",
    "GSmodal = abs(np.array(GSlist));\n",
    "FSmodal = abs(np.array(FirstStateList));\n",
    "SSmodal = abs(np.array(SecondStateList));"
   ]
  },
  {
   "cell_type": "markdown",
   "metadata": {},
   "source": [
    "Plot"
   ]
  },
  {
   "cell_type": "code",
   "execution_count": 19,
   "metadata": {
    "collapsed": false
   },
   "outputs": [],
   "source": [
    "plt.loglog(omegaModal, GSmodal, 'r-+', lw=lw)\n",
    "\n",
    "plt.loglog(omegaModal, SSmodal, 'b-+', lw=lw)\n",
    "plt.grid()\n",
    "plt.legend((\"$\\lambda_1$\", \"$\\lambda_3$\"), loc='best')\n",
    "plt.xlabel(\"$\\\\frac{R_0\\omega}{c}$\", size='x-large')\n",
    "plt.ylabel(\"$\\\\frac{\\Delta\\lambda(\\omega)}{\\lambda(0)}$\", size='large')\n",
    "#label size\n",
    "plt.tick_params(axis='both', which='major', labelsize=lsize)\n",
    "plt.tight_layout();\n",
    "plt.savefig(\"Modal_Deviation.eps\", format='eps', dpi=resolution)\n",
    "plt.show()"
   ]
  },
  {
   "cell_type": "code",
   "execution_count": 20,
   "metadata": {
    "collapsed": false
   },
   "outputs": [],
   "source": [
    "R0 = np.sqrt(2.0)\n",
    "xVal = omegaArrNodal[1:]*R0/c;\n",
    "\n",
    "plt.loglog(xVal, abs(EVNodalArray[-1,1:]-2*np.pi**2)/(2*np.pi**2), 'r-+', lw=lw)\n",
    "\n",
    "plt.loglog(xVal, abs(EVNodalArray[-7,1:]-8*np.pi**2)/(8*np.pi**2), 'b-+', lw=lw)\n",
    "plt.grid()\n",
    "plt.legend((\"$\\lambda_1$\", \"$\\lambda_3$\"), loc='best')\n",
    "plt.xlabel(\"$\\\\frac{R_0\\omega}{c}$\", size='x-large')\n",
    "plt.ylabel(\"$\\\\frac{\\Delta\\lambda(\\omega)}{\\lambda(0)}$\", size='large')\n",
    "#label size\n",
    "plt.tick_params(axis='both', which='major', labelsize=lsize)\n",
    "plt.tight_layout();\n",
    "plt.savefig(\"Nodal_Deviation.eps\", format='eps', dpi=resolution)\n",
    "plt.show()"
   ]
  },
  {
   "cell_type": "code",
   "execution_count": 21,
   "metadata": {
    "collapsed": false
   },
   "outputs": [],
   "source": [
    "plt.loglog(omegaModal, GSmodal, 'r-', lw=lw)\n",
    "plt.loglog(omegaModal, SSmodal, 'b-', lw=lw)\n",
    "\n",
    "plt.loglog(xVal, abs(EVNodalArray[-1,1:]-2*np.pi**2)/(2*np.pi**2), 'r--', lw=lw)\n",
    "plt.loglog(xVal, abs(EVNodalArray[-7,1:]-8*np.pi**2)/(8*np.pi**2), 'b--', lw=lw)\n",
    "\n",
    "plt.grid()\n",
    "plt.legend((\"$\\lambda_1$\", \"$\\lambda_3$\"), loc='best')\n",
    "plt.xlabel(\"$\\\\frac{R_0\\omega}{c}$\", size='x-large')\n",
    "plt.ylabel(\"$\\\\frac{\\Delta\\lambda(\\omega)}{\\lambda(0)}$\", size='large')\n",
    "#label size\n",
    "plt.tick_params(axis='both', which='major', labelsize=lsize)\n",
    "plt.tight_layout();\n",
    "plt.savefig(\"Nodal_Nodal_CompositePlot.eps\", format='eps', dpi=resolution)\n",
    "plt.show()"
   ]
  },
  {
   "cell_type": "markdown",
   "metadata": {},
   "source": [
    "## Static Isospectral Domains\n",
    "\n",
    "\n",
    "The reference values"
   ]
  },
  {
   "cell_type": "code",
   "execution_count": 25,
   "metadata": {
    "collapsed": true
   },
   "outputs": [],
   "source": [
    "#define the static eigenvalues of the ID's according to Driscoll\n",
    "StatEVReference = np.array([2.53794399980, 9.20929499840, 14.3138624643,\n",
    "20.8823950433, 24.6740110027,3.65550971352, 10.5969856913, 15.8713026200,\n",
    "21.2480051774, 26.0802400997,5.17555935622, 11.5413953956, 16.9417516880,\n",
    "22.2328517930, 27.3040189211,6.53755744376, 12.3370055014, 17.6651184368,\n",
    "23.7112974848, 28.1751285815,7.24807786256, 13.0536540557, 18.9810673877,\n",
    "24.4792340693, 29.5697729132])\n",
    "StatEVReference.sort();"
   ]
  },
  {
   "cell_type": "markdown",
   "metadata": {},
   "source": [
    "Redefine the read function"
   ]
  },
  {
   "cell_type": "code",
   "execution_count": 26,
   "metadata": {
    "collapsed": true
   },
   "outputs": [],
   "source": [
    "def ReadInput(datafiles):\n",
    "    EvInput = []\n",
    "    xValues = []\n",
    "\n",
    "    for k in range(len(datafiles)):\n",
    "        Input = open(datafiles[k], 'r')\n",
    "        RawDataEv = []\n",
    "        RawDataXval = []\n",
    "        for line in Input:\n",
    "            data = line.split();\n",
    "            if data[0]==\"%\":\n",
    "                continue;\n",
    "            else:\n",
    "                RawDataEv.append(float(data[-1]));\n",
    "                RawDataXval.append(float(data[0]));\n",
    "        xValues.append(RawDataXval)\n",
    "        EvInput.append(RawDataEv)\n",
    "\n",
    "    return [xValues, EvInput];"
   ]
  },
  {
   "cell_type": "markdown",
   "metadata": {},
   "source": [
    "Go to the directory where the solutions are stored"
   ]
  },
  {
   "cell_type": "code",
   "execution_count": 27,
   "metadata": {
    "collapsed": true
   },
   "outputs": [],
   "source": [
    "StatIDDir = \"../data/COMSOL/ID1\"\n",
    "datafiles = [\"ID1_1_Vacuo_D_EV_Stat.txt\", \"ID1_2_Vacuo_D_EV_Stat.txt\"]"
   ]
  },
  {
   "cell_type": "markdown",
   "metadata": {},
   "source": [
    "Read the data"
   ]
  },
  {
   "cell_type": "code",
   "execution_count": 28,
   "metadata": {
    "collapsed": false
   },
   "outputs": [],
   "source": [
    "os.chdir(StatIDDir);\n",
    "xValues, EvInput = ReadInput(datafiles);\n",
    "EvArray=np.array(EvInput);\n",
    "xValArray=np.array(xValues);\n",
    "os.chdir(origin);"
   ]
  },
  {
   "cell_type": "markdown",
   "metadata": {},
   "source": [
    "Sort, square and pick only real eigenvalues"
   ]
  },
  {
   "cell_type": "code",
   "execution_count": 29,
   "metadata": {
    "collapsed": false
   },
   "outputs": [],
   "source": [
    "EvArray.sort();\n",
    "UniqueValues = np.shape(EvArray)[1]/2;\n",
    "#square\n",
    "ID1EV = EvArray[0,0:UniqueValues]**2;\n",
    "ID2EV = EvArray[1,0:UniqueValues]**2;\n",
    "#pick only real EV\n",
    "mask1 = np.where(ID1EV>1)[0];\n",
    "mask2 = np.where(ID2EV>1)[0];\n",
    "ID1EV = ID1EV[mask1];\n",
    "ID2EV = ID2EV[mask2];\n",
    "#sort in ascending order\n",
    "ID1EV.sort();\n",
    "ID2EV.sort();"
   ]
  },
  {
   "cell_type": "markdown",
   "metadata": {},
   "source": [
    "Compare and compute absolute deviation"
   ]
  },
  {
   "cell_type": "code",
   "execution_count": 30,
   "metadata": {
    "collapsed": true
   },
   "outputs": [],
   "source": [
    "#compare data\n",
    "ID1deviation = np.zeros(len(ID1EV));\n",
    "ID2deviation = np.zeros(len(ID2EV));\n",
    "\n",
    "EVdifference = abs(ID1EV - ID2EV);\n",
    "#compute absolute deviation\n",
    "for k in xrange( len(ID1EV) ) :\n",
    "    ID1deviation[k] = abs( ID1EV[k] - StatEVReference[k] );\n",
    "for k in xrange( len(ID2EV) ) :\n",
    "    ID2deviation[k] = abs( ID2EV[k] - StatEVReference[k] );"
   ]
  },
  {
   "cell_type": "markdown",
   "metadata": {},
   "source": [
    "Plot the absolute error and the deviation of the eigenvalues"
   ]
  },
  {
   "cell_type": "code",
   "execution_count": 31,
   "metadata": {
    "collapsed": false
   },
   "outputs": [],
   "source": [
    "#plot parameters\n",
    "bar_width = 0.35\n",
    "index = np.arange(len(ID1EV))\n",
    "\n",
    "#plot\n",
    "plt.subplot(1,2,1)\n",
    "\n",
    "#draw the absolute deviation\n",
    "plt.bar(index, ID1deviation, bar_width, color=color1, label=\"Domain 1\", align='center', log=True);\n",
    "plt.bar(index+bar_width, ID2deviation, bar_width, color=color2, label=\"Domain 2\", align='center', log=True);\n",
    "plt.legend(loc='upper left', framealpha=0.7);\n",
    "\n",
    "plt.grid();\n",
    "plt.xticks(index + bar_width/2, (index+1))\n",
    "plt.xlabel(\"Eigenvalue index\");\n",
    "plt.ylabel(\"$|\\lambda^2_{num} - \\lambda^2_{ref}|\\;\\left[ \\\\frac{1}{m} \\\\right]$\", size='large');\n",
    "\n",
    "plt.subplot(1,2,2);\n",
    "#draw the anisospectrality\n",
    "plt.bar(index, EVdifference, bar_width,color='r', align='center', log=True);\n",
    "\n",
    "plt.grid();\n",
    "plt.xlabel(\"Eigenvalue index\");\n",
    "plt.ylabel(\"$|\\left( \\lambda^{(1)} \\\\right)^2 - \\left( \\lambda^{(2)} \\\\right)^2|\\;\\left[ \\\\frac{1}{m} \\\\right]$\",\\\n",
    "           size='large');\n",
    "\n",
    "plt.xticks(index, (index+1))\n",
    "#label size\n",
    "plt.tick_params(axis='both', which='major', labelsize=lsize)\n",
    "plt.tight_layout();\n",
    "plt.savefig(\"Results_StaticIDs.eps\", format='eps', dpi=resolution)\n",
    "plt.show()"
   ]
  },
  {
   "cell_type": "markdown",
   "metadata": {},
   "source": [
    "Results obtained using own code.\n",
    "\n",
    "The data is organized in an array as follows\n",
    "\n",
    "|Method | $\\lambda_1$ | ... | $\\lambda_{10}$ |\n",
    "| :--- | :---: | :---: | :---: |\n",
    "| FEM $N_{ref} = 1$ | ... | ... | ... |\n",
    "| ... | ... | ... | ... |\n",
    "| FEM $N_{ref} = 7$ | ... | ... | ... |\n",
    "\n",
    "Domain 1"
   ]
  },
  {
   "cell_type": "code",
   "execution_count": 30,
   "metadata": {
    "collapsed": false
   },
   "outputs": [],
   "source": [
    "EVID1own=np.array([[-13.2295132778,-12.5686877302, -11.7628333305, -10.7590025818,-9.30075777195 , -7.30422132186, -6.55326703592, -5.20879921043, -3.67242406704, -2.55277675974 ],\n",
    "[-13.0734575132, -12.3423459403 , -11.5476473828, -10.605930045 ,-9.21586760371, -7.25889536973, -6.54061574393 ,-5.18683224308,-3.66136212899, -2.54371387797],\n",
    "[-13.0604930202, -12.3370949844 , -11.542307298, -10.5996960358, -9.2113129933, -7.25227618399, -6.53855768074, -5.1800174735, -3.65778035856, -2.54022155518 ],\n",
    "[-13.0563198596, -12.3370069135, -11.5416972502, -10.5980231311, -9.2100754866, -7.24974513716, -6.53792753306, -5.17732468003 , -3.65640355771, -2.53884574699],\n",
    "[-13.0547053567,-12.3370055234 , -11.5415084911 , -10.5973925501 , -9.20960212686  , -7.24873928906 , -6.53770019047  , -5.17625901735 , -3.65586327765,-2.5383014885],\n",
    "[-13.0540701647 , -12.3370055017 , -11.5414392481  , -10.5971463816,-9.20941645129   , -7.2483402705  , -6.53761344348,-5.17583685038 , -3.65564983946 , -2.53808580606 ],\n",
    "[-13.053819007,-12.3370055013 , -11.5414126355 ,-10.5970493375 ,-9.20934312674 , -7.24818198334  , -6.53757956473,-5.17566945154 , -3.65556529274 , -2.53800026511]]);"
   ]
  },
  {
   "cell_type": "markdown",
   "metadata": {},
   "source": [
    "Domain 2"
   ]
  },
  {
   "cell_type": "code",
   "execution_count": 31,
   "metadata": {
    "collapsed": true
   },
   "outputs": [],
   "source": [
    "EVID2own=np.array([[-13.5050123448, -12.5671596432, -11.7526386517, -10.7666010439, -9.29880094937, -7.30835862312 , -6.56864607574, -5.21473188956, -3.67432580727 , -2.55370998204  ],\n",
    "[-13.0791611795,-12.3411356147, -11.5476505776 , -10.6066157906 , -9.21632749328 , -7.2596343083 ,-6.54095033937, -5.18728485677, -3.66145057259, -2.54377547446],\n",
    "[-13.0606576382, -12.3370744446,-11.5423165973 , -10.5997320719, -9.2113497924, -7.25232910108, -6.53856774037 , -5.18004933815,-3.65778765446,-2.54022762534],\n",
    "[-13.056330188 , -12.3370065856 , -11.5416981459  , -10.598025924, -9.21007824679, -7.24974922844, -6.53792815338, -5.17732738577 , -3.65640429748 ,-2.53884637849 ],\n",
    "[-13.0547063471 ,-12.3370055183, -11.5415085749 ,-10.5973928103 , -9.20960236242, -7.24873965014, -6.53770024637, -5.17625927169 ,-3.65586335335   , -2.53830155305],\n",
    "[-13.0540702653  , -12.3370055016, -11.5414392562 , -10.5971464071,-9.2094164732, -7.2483403047,-6.53761344897 , -5.17583687518 ,-3.6556498471,-2.53808581255 ],\n",
    "[-13.0538190171 , -12.3370055013,-11.5414126363,-10.59704934, -9.20934312886, -7.24818198667, -6.53757956527, -5.17566945399 , -3.65556529351, -2.53800026576]])"
   ]
  },
  {
   "cell_type": "markdown",
   "metadata": {},
   "source": [
    "Absolute and relative errors of the eigenvalues computed with own software"
   ]
  },
  {
   "cell_type": "code",
   "execution_count": 32,
   "metadata": {
    "collapsed": true
   },
   "outputs": [],
   "source": [
    "#sort\n",
    "EVID1own = abs(EVID1own);\n",
    "EVID2own = abs(EVID2own);\n",
    "EVID1own.sort();\n",
    "EVID2own.sort();"
   ]
  },
  {
   "cell_type": "code",
   "execution_count": 33,
   "metadata": {
    "collapsed": false
   },
   "outputs": [],
   "source": [
    "absErrID1own = np.zeros(np.shape(EVID1own));\n",
    "absErrID2own = np.zeros(np.shape(EVID2own));\n",
    "for k in range(np.shape(EVID1own)[0]):\n",
    "    absErrID1own[k] = abs(EVID1own[k,:] - StatEVReference[:len(EVID1own[k,:])])\n",
    "for k in range(np.shape(EVID2own)[0]):\n",
    "    absErrID2own[k] = abs(EVID2own[k,:] - StatEVReference[:len(EVID2own[k,:])])"
   ]
  },
  {
   "cell_type": "code",
   "execution_count": 34,
   "metadata": {
    "collapsed": true
   },
   "outputs": [],
   "source": [
    "relErrID1own = np.zeros(np.shape(EVID1own));\n",
    "relErrID2own = np.zeros(np.shape(EVID2own));\n",
    "for k in range(np.shape(EVID1own)[0]):\n",
    "    relErrID1own[k] = absErrID1own[k]/StatEVReference[:len(EVID1own[k,:])]\n",
    "for k in range(np.shape(EVID2own)[0]):\n",
    "    relErrID2own[k] = absErrID2own[k]/ StatEVReference[:len(EVID2own[k,:])]"
   ]
  },
  {
   "cell_type": "markdown",
   "metadata": {},
   "source": [
    "Plot the deviation from the reference values for the highest refinement possible"
   ]
  },
  {
   "cell_type": "code",
   "execution_count": 35,
   "metadata": {
    "collapsed": true
   },
   "outputs": [],
   "source": [
    "index = np.arange(len(EVID1own[k,:]));\n",
    "\n",
    "#plot\n",
    "plt.subplot(1,2,1)\n",
    "\n",
    "#draw the absolute deviation\n",
    "plt.bar(index, absErrID1own[-1], bar_width, color=color1, label=\"Domain 1\", align='center', log=True);\n",
    "plt.bar(index+bar_width, absErrID2own[-1], bar_width, color=color2, label=\"Domain 2\", align='center', log=True);\n",
    "plt.legend(loc='upper left', framealpha=0.6);\n",
    "\n",
    "plt.grid();\n",
    "plt.xticks(index + bar_width/2, (index+1))\n",
    "plt.xlabel(\"Eigenvalue index\");\n",
    "plt.ylabel(\"$|\\lambda^2_{num} - \\lambda^2_{ref}|\\;\\left[ \\\\frac{1}{m} \\\\right]$\", size='large');\n",
    "\n",
    "plt.subplot(1,2,2);\n",
    "#draw the anisospectrality\n",
    "plt.bar(index, abs(EVID1own[-1,:] - EVID2own[-1,:]), bar_width,color='r', align='center', log=True);\n",
    "\n",
    "plt.grid();\n",
    "plt.xlabel(\"Eigenvalue index\");\n",
    "plt.ylabel(\"$|\\left( \\lambda^{(1)} \\\\right)^2 - \\left( \\lambda^{(2)} \\\\right)^2|\\;\\left[ \\\\frac{1}{m} \\\\right]$\",\\\n",
    "           size='large');\n",
    "\n",
    "plt.xticks(index, (index+1))\n",
    "#label size\n",
    "plt.tick_params(axis='both', which='major', labelsize=lsize)\n",
    "plt.tight_layout();\n",
    "plt.savefig(\"Results_Own_Nref7_StaticIDs.eps\", format='eps', dpi=resolution)\n",
    "plt.show()"
   ]
  },
  {
   "cell_type": "markdown",
   "metadata": {},
   "source": [
    "Do the same for a mediocre refinement"
   ]
  },
  {
   "cell_type": "code",
   "execution_count": 36,
   "metadata": {
    "collapsed": true
   },
   "outputs": [],
   "source": [
    "index = np.arange(len(EVID1own[k,:]));\n",
    "refIdx = 3\n",
    "#plot\n",
    "plt.subplot(1,2,1)\n",
    "\n",
    "#draw the absolute deviation\n",
    "plt.bar(index, absErrID1own[refIdx], bar_width, color=color1, label=\"Domain 1\", align='center', log=True);\n",
    "plt.bar(index+bar_width, absErrID2own[refIdx], bar_width, color=color2, label=\"Domain 2\", align='center', log=True);\n",
    "plt.legend(loc='upper left', framealpha=0.6);\n",
    "\n",
    "plt.grid();\n",
    "plt.xticks(index + bar_width/2, (index+1))\n",
    "plt.xlabel(\"Eigenvalue index\");\n",
    "plt.ylabel(\"$|\\lambda^2_{num} - \\lambda^2_{ref}|\\;\\left[ \\\\frac{1}{m} \\\\right]$\", size='large');\n",
    "\n",
    "plt.subplot(1,2,2);\n",
    "#draw the anisospectrality\n",
    "plt.bar(index, abs(EVID1own[refIdx,:] - EVID2own[refIdx,:]), bar_width,color='r', align='center', log=True);\n",
    "\n",
    "plt.grid();\n",
    "plt.xlabel(\"Eigenvalue index\");\n",
    "plt.ylabel(\"$|\\left( \\lambda^{(1)} \\\\right)^2 - \\left( \\lambda^{(2)} \\\\right)^2|\\;\\left[ \\\\frac{1}{m} \\\\right]$\",\\\n",
    "           size='large');\n",
    "\n",
    "plt.xticks(index, (index+1))\n",
    "#label size\n",
    "plt.tick_params(axis='both', which='major', labelsize=lsize)\n",
    "plt.tight_layout();\n",
    "plt.savefig(\"Results_Own_Nref%d_StaticIDs.eps\"%(refIdx), format='eps', dpi=resolution)\n",
    "plt.show()"
   ]
  },
  {
   "cell_type": "markdown",
   "metadata": {},
   "source": [
    "## Sunada and Harayama Cavity\n",
    "\n",
    "Fetch the data. The values of $\\omega$ from the second file will be ignored since they are identical to those from the first file.\n",
    "When the loading is done the script changes back to the directory of origin."
   ]
  },
  {
   "cell_type": "code",
   "execution_count": 37,
   "metadata": {
    "collapsed": false
   },
   "outputs": [],
   "source": [
    "SHDir = \"../data/COMSOL/SH\"\n",
    "os.chdir(SHDir);\n",
    "inputfile = open(\"Eigenfreq_1__1RotDisc.txt\", 'r');\n",
    "omega1 = []\n",
    "EV1 = []\n",
    "for line in inputfile:\n",
    "    data = line.split();\n",
    "    if data[0] == \"%\":\n",
    "        continue;\n",
    "    else:\n",
    "        omega1.append( float(data[0]));\n",
    "        EV1.append( float(data[-1]));\n",
    "\n",
    "inputfile.close()\n",
    "\n",
    "#second\n",
    "inputfile = open(\"Eigenfreq_2_1_RotDisc.txt\", 'r');\n",
    "omega2 = []\n",
    "EV2 = []\n",
    "for line in inputfile:\n",
    "    data = line.split();\n",
    "    if data[0] == \"%\":\n",
    "        continue;\n",
    "    else:\n",
    "        omega2.append( float(data[0]));\n",
    "        EV2.append( float(data[-1]));\n",
    "\n",
    "inputfile.close()\n",
    "\n",
    "os.chdir(origin);"
   ]
  },
  {
   "cell_type": "markdown",
   "metadata": {},
   "source": [
    "Cast into arrays and compute the difference"
   ]
  },
  {
   "cell_type": "code",
   "execution_count": 38,
   "metadata": {
    "collapsed": true
   },
   "outputs": [],
   "source": [
    "omegaArray = np.array(omega1)\n",
    "EV1Array = np.array(EV1)\n",
    "EV2Array = np.array(EV2)\n",
    "EVDiff = abs(EV1Array - EV2Array)"
   ]
  },
  {
   "cell_type": "markdown",
   "metadata": {},
   "source": [
    "Determine the permutation of the indices necessary to put the angular frequencies into an ascending order,  then re-order angular frequencies and eigenvalues using the permutation obtained."
   ]
  },
  {
   "cell_type": "code",
   "execution_count": 39,
   "metadata": {
    "collapsed": true
   },
   "outputs": [],
   "source": [
    "omegaIndices = omegaArray.argsort()\n",
    "EVDiffSorted = EVDiff[omegaIndices[::1]]\n",
    "omegaSorted = omegaArray[omegaIndices[::1]];"
   ]
  },
  {
   "cell_type": "markdown",
   "metadata": {},
   "source": [
    "Plot the eigenvalues\n",
    "\n",
    "The eigenvalues carry the dimension of a wave-vector, $\\left[\\frac{1}{L}\\right]$. Being in vacuum we can use the relation $\\omega = c\\Vert \\mathbf{k}\\Vert_2$ to obtain the eigenfrequencies. \n",
    "Thus $\\frac{R_0\\vert \\Delta\\omega\\vert}{c} = R_0\\vert \\Delta \\lambda\\vert$."
   ]
  },
  {
   "cell_type": "code",
   "execution_count": 40,
   "metadata": {
    "collapsed": false
   },
   "outputs": [],
   "source": [
    "R0 = 6.2866*1e-6;\n",
    "xVal = R0*omegaSorted/c;\n",
    "yVal = R0*EVDiffSorted;\n",
    "\n",
    "\n",
    "fig,ax = plt.subplots()\n",
    "ax.loglog(xVal, yVal, linestyle=ls1, lw=lw, marker='o', color=color1);\n",
    "ax.set_xlabel(\"$\\\\frac{R_0\\omega}{c}$\", size='x-large')\n",
    "ax.set_ylabel(\"$\\\\frac{R_0| \\Delta\\omega|}{c}$\", size='large')\n",
    "\n",
    "ax.set_xlim(min(xVal), max(xVal));\n",
    "ax.set_ylim(5e-6,1e-3);\n",
    "\n",
    "ax.grid()\n",
    "\n",
    "#add slope marker\n",
    "slope_marker((2e-6,2e-4), (1,1), 0.05, 0.15, ax, invert=True, ec='black', linestyle='solid', lw='1.5', fill=False)\n",
    "#label size\n",
    "plt.tick_params(axis='both', which='major', labelsize=lsize)\n",
    "plt.tight_layout();\n",
    "\n",
    "plt.savefig(\"SH_EigenmodeDeviation_AdaptedToSH.eps\", format='eps', dpi=resolution)\n",
    "plt.show()"
   ]
  },
  {
   "cell_type": "markdown",
   "metadata": {},
   "source": [
    "-------------------------\n",
    "## Polynomial Degree Studies\n",
    "\n",
    "The directories where the data is stored in subdirectories. Using data obtained with the full PDE.\n",
    "\n",
    "The plots will require the radii of the circumcircles of the domains, too."
   ]
  },
  {
   "cell_type": "code",
   "execution_count": 41,
   "metadata": {
    "collapsed": true
   },
   "outputs": [],
   "source": [
    "R0Dict = {\"ID1_1\":3.6651, \"ID1_2\":3.4667, \"ID2_1\":4.55, \"ID2_2\":4.8365 };"
   ]
  },
  {
   "cell_type": "code",
   "execution_count": 42,
   "metadata": {
    "collapsed": true
   },
   "outputs": [],
   "source": [
    "P1Dir=\"../data/ID1/P1_Full\";\n",
    "P2Dir=\"../data/ID1/P2_Full\";\n",
    "P3Dir=\"../data/ID1/P3_Full\";\n",
    "\n",
    "#subdirectories for vacuum and diamond data\n",
    "vacuumSubdir=\"/Exp_0\";\n",
    "diamondSubdir=\"/Exp_2\";"
   ]
  },
  {
   "cell_type": "markdown",
   "metadata": {},
   "source": [
    "Fetch data for vacuum and return to the origin directory."
   ]
  },
  {
   "cell_type": "code",
   "execution_count": 43,
   "metadata": {
    "collapsed": true
   },
   "outputs": [],
   "source": [
    "os.chdir(P1Dir+vacuumSubdir);\n",
    "P1data = np.load(\"Results_Exp_0.npz\");\n",
    "os.chdir(P2Dir+vacuumSubdir);\n",
    "P2data = np.load(\"Results_Exp_0.npz\");\n",
    "os.chdir(P3Dir+vacuumSubdir);\n",
    "P3data = np.load(\"Results_Exp_0.npz\");\n",
    "os.chdir(origin);"
   ]
  },
  {
   "cell_type": "markdown",
   "metadata": {},
   "source": [
    "Load the angular frequencies, the anisospectrality values as well as the refinement level for the highest level of refinement used."
   ]
  },
  {
   "cell_type": "code",
   "execution_count": 44,
   "metadata": {
    "collapsed": true
   },
   "outputs": [],
   "source": [
    "#P1 FE\n",
    "P1Aniso = P1data['Data'][-1,];\n",
    "P1MaxRef = P1data['N'][-1];\n",
    "omega = P1data['omega'];\n",
    "#P2 FE\n",
    "P2Aniso = P2data['Data'][-1,];\n",
    "P2MaxRef = P2data['N'][-1];\n",
    "#P3 FE\n",
    "P3Aniso = P3data['Data'][-1,];\n",
    "P3MaxRef = P3data['N'][-1];"
   ]
  },
  {
   "cell_type": "markdown",
   "metadata": {},
   "source": [
    "Plot"
   ]
  },
  {
   "cell_type": "code",
   "execution_count": 45,
   "metadata": {
    "collapsed": false
   },
   "outputs": [],
   "source": [
    "R0 = max( R0Dict[\"ID1_1\"], R0Dict[\"ID1_2\"]);\n",
    "x = R0*omega/c;\n",
    "\n",
    "fig, ax = plt.subplots();\n",
    "#ground state\n",
    "ax.loglog(x[1:], P1Aniso[GSIdx,1:], color=color1, lw=lw, linestyle=ls1, marker=mark1);\n",
    "ax.loglog(x[1:], P2Aniso[GSIdx,1:], color=color2, lw=lw, linestyle=ls1, marker=mark1);\n",
    "ax.loglog(x[1:], P3Aniso[GSIdx,1:], color='darkblue', lw=lw, linestyle=ls1, marker=mark1);\n",
    "#ninth excited\n",
    "ax.loglog(x[1:], P1Aniso[NSIdx,1:], color=color1, lw=lw, linestyle=ls2, marker=mark2);\n",
    "ax.loglog(x[1:], P2Aniso[NSIdx,1:], color=color2, lw=lw, linestyle=ls2, marker=mark2);\n",
    "ax.loglog(x[1:], P3Aniso[NSIdx,1:], color='darkblue', lw=lw, linestyle=ls2, marker=mark2);\n",
    "\n",
    "ax.grid();\n",
    "ax.set_xlabel(\"$\\\\frac{R_0\\omega}{c}$\", size='x-large');\n",
    "ax.set_ylabel(\"$|(\\lambda^{(1)})^2 - (\\lambda^{(2)})^2|\\;\\left[\\\\frac{1}{m}\\\\right]$\", size='x-large')\n",
    "\n",
    "#legend\n",
    "ax.legend((\"$\\lambda_0\\;\\mathcal{P}_1$\",\"$\\lambda_0\\;\\mathcal{P}_2$\",\"$\\lambda_0\\;\\mathcal{P}_3$\",\\\n",
    "          \"$\\lambda_9\\;\\mathcal{P}_1$\",\"$\\lambda_9\\;\\mathcal{P}_2$\",\"$\\lambda_9\\;\\mathcal{P}_3$\"),\\\n",
    "         loc='lower right', framealpha=0.7)\n",
    "#fit\n",
    "ax.set_xlim(min(x), max(x));\n",
    "\n",
    "#shade the unphysical region\n",
    "ax.axvspan(5*1e-1, max(x), facecolor='none', hatch='x', alpha=0.2)\n",
    "#label size\n",
    "plt.tick_params(axis='both', which='major', labelsize=lsize)\n",
    "fig.tight_layout()\n",
    "#save and draw\n",
    "fig.savefig(\"ID1_FullEquation_PolydegStudy_Vacuum.eps\", format='eps', dpi=resolution);\n",
    "plt.show()"
   ]
  },
  {
   "cell_type": "markdown",
   "metadata": {},
   "source": [
    "----------------------\n",
    "Now the same for diamond, this time load and extract data in one go."
   ]
  },
  {
   "cell_type": "code",
   "execution_count": 46,
   "metadata": {
    "collapsed": false
   },
   "outputs": [],
   "source": [
    "os.chdir(P1Dir+diamondSubdir);\n",
    "P1data = np.load(\"Results_Exp_2.npz\");\n",
    "os.chdir(P2Dir+diamondSubdir);\n",
    "P2data = np.load(\"Results_Exp_2.npz\");\n",
    "os.chdir(P3Dir+diamondSubdir);\n",
    "P3data = np.load(\"Results_Exp_2.npz\");\n",
    "os.chdir(origin);\n",
    "\n",
    "#P1 FE\n",
    "P1Aniso = P1data['Data'][-1,];\n",
    "P1MaxRef = P1data['N'][-1];\n",
    "omega = P1data['omega'];\n",
    "#P2 FE\n",
    "P2Aniso = P2data['Data'][-1,];\n",
    "P2MaxRef = P2data['N'][-1];\n",
    "#P3 FE\n",
    "P3Aniso = P3data['Data'][-1,];\n",
    "P3MaxRef = P3data['N'][-1];"
   ]
  },
  {
   "cell_type": "markdown",
   "metadata": {},
   "source": [
    "Plot"
   ]
  },
  {
   "cell_type": "code",
   "execution_count": 47,
   "metadata": {
    "collapsed": true
   },
   "outputs": [],
   "source": [
    "R0 = max( R0Dict[\"ID1_1\"], R0Dict[\"ID1_2\"]);\n",
    "x = R0*omega/c;\n",
    "\n",
    "fig, ax = plt.subplots();\n",
    "#ground state\n",
    "ax.loglog(x[1:], P1Aniso[GSIdx,1:], color=color1, lw=lw, linestyle=ls1, marker=mark1);\n",
    "ax.loglog(x[1:], P2Aniso[GSIdx,1:], color=color2, lw=lw, linestyle=ls1, marker=mark1);\n",
    "ax.loglog(x[1:], P3Aniso[GSIdx,1:], color='darkblue', lw=lw, linestyle=ls1, marker=mark1);\n",
    "#ninth excited\n",
    "ax.loglog(x[1:], P1Aniso[NSIdx,1:], color=color1, lw=lw, linestyle=ls2, marker=mark2);\n",
    "ax.loglog(x[1:], P2Aniso[NSIdx,1:], color=color2, lw=lw, linestyle=ls2, marker=mark2);\n",
    "ax.loglog(x[1:], P3Aniso[NSIdx,1:], color='darkblue', lw=lw, linestyle=ls2, marker=mark2);\n",
    "\n",
    "ax.grid();\n",
    "ax.set_xlabel(\"$\\\\frac{R_0\\omega}{c}$\", size='x-large');\n",
    "ax.set_ylabel(\"$|(\\lambda^{(1)})^2 - (\\lambda^{(2)})^2|\\;\\left[\\\\frac{1}{m}\\\\right]$\", size='x-large')\n",
    "\n",
    "#legend\n",
    "ax.legend((\"$\\lambda_0\\;\\mathcal{P}_1$\",\"$\\lambda_0\\;\\mathcal{P}_2$\",\"$\\lambda_0\\;\\mathcal{P}_3$\",\\\n",
    "          \"$\\lambda_9\\;\\mathcal{P}_1$\",\"$\\lambda_9\\;\\mathcal{P}_2$\",\"$\\lambda_9\\;\\mathcal{P}_3$\"),\\\n",
    "         loc='lower right', framealpha=0.7)\n",
    "#fit\n",
    "ax.set_xlim(min(x), max(x));\n",
    "\n",
    "#shade the unphysical region\n",
    "ax.axvspan(5*1e-1, max(x), facecolor='none', hatch='x', alpha=0.2)\n",
    "#label size\n",
    "plt.tick_params(axis='both', which='major', labelsize=lsize)\n",
    "fig.tight_layout()\n",
    "#save and draw\n",
    "fig.savefig(\"ID1_FullEquation_PolydegStudy_Diamond.eps\", format='eps', dpi=resolution);\n",
    "plt.show()"
   ]
  },
  {
   "cell_type": "markdown",
   "metadata": {},
   "source": [
    "--------------------\n",
    "## Basic Studies\n",
    "\n",
    "First a manual collection of the errors for simple PDE, Simple PDE with trigonometric functions and a PDE with transport.\n",
    "\n",
    "The order is $\\mathcal{P}_1,\\mathcal{P}_2,\\mathcal{P}_3$"
   ]
  },
  {
   "cell_type": "code",
   "execution_count": 48,
   "metadata": {
    "collapsed": true
   },
   "outputs": [],
   "source": [
    "#mesh width\n",
    "hSimplePoly = np.array([0.25,0.125,0.0625,0.03125,0.015625]);\n",
    "#L2 error\n",
    "L2Error_SimplePolyQC = np.array(\n",
    "    [[0.00304888,0.000844363,0.000216787,5.45618e-05,1.36634e-05],\n",
    "     [0.000259694,3.23212e-05,4.02961e-06,5.03446e-07,6.29265e-08],\n",
    "     [2.2221e-05,1.36095e-06,8.27762e-08,5.07671e-09,3.13829e-10]])\n",
    "#H1 error\n",
    "H1Error_SimplePolyQC = np.array([[0.0361373, 0.0190755,0.00967272,0.00485357,0.00242895],\n",
    "                                [0.00758449,0.0019903,0.000504271,0.000126517,3.16582e-05],\n",
    "                                [0.00091226,0.000115685,1.44012e-05,1.7908e-06,2.23076e-07]])\n",
    "#L-inf error\n",
    "#LInfError_SimplePolyQC = np.array( [[0.00186826,0.000501065, 0.000129457,3.2867e-05, 8.2321e-06],\n",
    "#                                   []])\n",
    "f  = np.array([0.482717, 0.482717,0.482717])\n",
    "#create the custom ticks for the x-axis.\n",
    "NrefSimple = np.array( [int(np.log2(x)) for x in 1/hSimplePoly] );\n",
    "xTicksSimple = [1.0/(2**k) for k in NrefSimple]\n",
    "xTickLabSimple =[\"$\\\\frac{1}{2^{%d}}$\"%(k) for k in NrefSimple]"
   ]
  },
  {
   "cell_type": "markdown",
   "metadata": {},
   "source": [
    "Next for the poisson equation with trigonometric solutions."
   ]
  },
  {
   "cell_type": "code",
   "execution_count": 49,
   "metadata": {
    "collapsed": false
   },
   "outputs": [],
   "source": [
    "hTrig=np.array([0.5,0.25,0.125,0.0625,0.03125])\n",
    "#L2\n",
    "L2Error_TrigQC = np.array([[0.500005,0.16208,0.0462109,0.0119672,0.00301894],\n",
    "                           [0.116052,0.0159398,0.00206637,0.00026105,3.2727e-05],\n",
    "                           [0.0285441,0.00192692,0.000116973,7.14083e-06,4.41458e-07]])\n",
    "#H1\n",
    "H1Error_TrigQC = np.array([[3.5478,1.89355,1.00272,0.508897,0.25541],\n",
    "        [1.41288,0.450094,0.119876,0.0305061,0.00766213],\n",
    "        [0.523477,0.0735556,0.00939114,0.00117461,0.000146621]])\n",
    "#RHS L2 norm\n",
    "f= np.array([24.674,24.674,24.674])\n",
    "#\n",
    "NrefTrig = np.array( [int(np.log2(x)) for x in 1/hTrig] );\n",
    "xTicksTrig = [1.0/(2**k) for k in NrefTrig]\n",
    "xTickLabTrig =[\"$\\\\frac{1}{2^{%d}}$\"%(k) for k in NrefTrig]"
   ]
  },
  {
   "cell_type": "markdown",
   "metadata": {},
   "source": [
    "Finally the poisson equation with a gyroscopic term and a polynomial solution"
   ]
  },
  {
   "cell_type": "code",
   "execution_count": 50,
   "metadata": {
    "collapsed": true
   },
   "outputs": [],
   "source": [
    "hTrans = np.array([0.25,0.125,0.0625,0.03125,0.015625])\n",
    "#L2\n",
    "L2Error_Trans = np.array([[0.00246472,0.000670436,0.000171558,4.31474e-05,1.08032e-05,],\n",
    "                           [0.0323943,3.19154e-05,4.01628e-06,5.03027e-07,6.29134e-08],\n",
    "                           [2.21742e-05,1.36029e-06,8.27662e-08,5.07655e-09,3.13826e-10]])\n",
    "#H1\n",
    "H1Error_Trans = np.array([[0.0367046,0.0191482,0.00968192,0.00485472,0.00242909],\n",
    "        [0.937899,0.00199385,0.00050457,0.000126538,3.16596e-05],\n",
    "        [0.000916595,0.000115841,1.44061e-05,1.79094e-06,2.23081e-07]])\n",
    "#L-inf norm 0.00154509,0.000368246,9.18926e-05,2.28703e-05,5.70762e-06\n",
    "#RHS L2 norm\n",
    "f= np.array([0.456846,0.456846,0.456846])\n",
    "#create the custom ticks for the x-axis.\n",
    "NrefTrans = np.array( [int(np.log2(x)) for x in 1/hTrans] );\n",
    "xTicksTrans = [1.0/(2**k) for k in NrefTrans]\n",
    "xTickLabTrans =[\"$\\\\frac{1}{2^{%d}}$\"%(k) for k in NrefTrans]"
   ]
  },
  {
   "cell_type": "markdown",
   "metadata": {},
   "source": [
    "Now plot the $L^2$ errors"
   ]
  },
  {
   "cell_type": "code",
   "execution_count": 54,
   "metadata": {
    "collapsed": false
   },
   "outputs": [],
   "source": [
    "fig, ax = plt.subplots()\n",
    "\n",
    "ax.loglog(hSimplePoly[::-1],L2Error_SimplePolyQC[0,::-1],  lw=lw, color=color1, linestyle=ls1, marker=mark1);\n",
    "ax.loglog(hSimplePoly[::-1],L2Error_SimplePolyQC[1,::-1],  lw=lw, color=color2, linestyle=ls1, marker=mark2);\n",
    "ax.loglog(hSimplePoly[::-1],L2Error_SimplePolyQC[2,::-1],  lw=lw, color='darkblue', linestyle=ls1, marker='x');\n",
    "\n",
    "\n",
    "\n",
    "#add slope triangle\n",
    "#Quartic\n",
    "slope_marker((hSimplePoly[-2],L2Error_SimplePolyQC[2,-2]), (4,1), 0.15, 0.15, ax,  ec='black', linestyle='solid', lw='1.5', fill=False)\n",
    "#Cubic\n",
    "slope_marker((hSimplePoly[-2],L2Error_SimplePolyQC[1,-2]), (3,1), 0.15, 0.15, ax,  ec='black', linestyle='solid', lw='1.5', fill=False)\n",
    "#Quadratic\n",
    "slope_marker((hSimplePoly[-3],L2Error_SimplePolyQC[0,-3]), (2,1), 0.15, 0.15, ax, ec='black', linestyle='solid', lw='1.5', fill=False)\n",
    "\n",
    "#add H1 errors\n",
    "ax.loglog(hSimplePoly[::-1],H1Error_SimplePolyQC[0,::-1],  lw=lw, color=color1, linestyle=ls2, marker=mark1);\n",
    "ax.loglog(hSimplePoly[::-1],H1Error_SimplePolyQC[1,::-1],  lw=lw, color=color2, linestyle=ls2, marker=mark2);\n",
    "ax.loglog(hSimplePoly[::-1],H1Error_SimplePolyQC[2,::-1],  lw=lw, color='darkblue', linestyle=ls2, marker='x');\n",
    "\n",
    "#add slope triangle for H1 error\n",
    "#linear\n",
    "slope_marker((hSimplePoly[-3],H1Error_SimplePolyQC[0,-3]), (1,1), 0.15, 0.15, ax, invert=True, ec='black', linestyle='solid', lw='1.5', fill=False)\n",
    "\n",
    "ax.legend((\"$ L^2\\; \\mathcal{P}_1$ FE\", \"$L^2\\;\\mathcal{P}_2$ FE\", \"$L^2\\;\\mathcal{P}_3$ FE\",\\\n",
    "          \"$ H^1\\; \\mathcal{P}_1$ FE\", \"$H^1\\;\\mathcal{P}_2$ FE\", \"$H^1\\;\\mathcal{P}_3$ FE\",), loc='lower right', framealpha=0.7)\n",
    "ax.set_xlabel(\"Mesh width\");\n",
    "ax.set_ylabel(\"errors\");\n",
    "#set tick labels\n",
    "ax.set_xticks(xTicksSimple)\n",
    "ax.set_xticklabels(xTickLabSimple, size='14', weight='bold')\n",
    "ax.set_xlim(min(xTicksSimple), max(xTicksSimple));\n",
    "\n",
    "ax.grid();\n",
    "#label size\n",
    "plt.tick_params(axis='both', which='major', labelsize=lsize)\n",
    "plt.title(\"Poisson with polynomial solution\")\n",
    "fig.tight_layout();\n",
    "plt.show()"
   ]
  },
  {
   "cell_type": "markdown",
   "metadata": {},
   "source": [
    "Do the same for the trig equation"
   ]
  },
  {
   "cell_type": "code",
   "execution_count": 55,
   "metadata": {
    "collapsed": false
   },
   "outputs": [],
   "source": [
    "fig, ax = plt.subplots()\n",
    "\n",
    "ax.loglog(hTrig[::-1],L2Error_TrigQC[0,::-1],  lw=lw, color=color1, linestyle=ls1, marker=mark1);\n",
    "ax.loglog(hTrig[::-1],L2Error_TrigQC[1,::-1],  lw=lw, color=color2, linestyle=ls1, marker=mark2);\n",
    "ax.loglog(hTrig[::-1],L2Error_TrigQC[2,::-1],  lw=lw, color='darkblue', linestyle=ls1, marker='x');\n",
    "\n",
    "\n",
    "\n",
    "#add slope triangle\n",
    "#Quartic\n",
    "slope_marker((hTrig[-2],L2Error_TrigQC[2,-2]), (4,1), 0.15, 0.15, ax,  ec='black', linestyle='solid', lw='1.5', fill=False)\n",
    "#Cubic\n",
    "slope_marker((hTrig[-2],L2Error_TrigQC[1,-2]), (3,1), 0.15, 0.15, ax,  ec='black', linestyle='solid', lw='1.5', fill=False)\n",
    "#Quadratic\n",
    "slope_marker((hTrig[-3],L2Error_TrigQC[0,-3]), (2,1), 0.15, 0.15, ax, ec='black', linestyle='solid', lw='1.5', fill=False)\n",
    "\n",
    "#add H1 errors\n",
    "ax.loglog(hTrig[::-1],H1Error_TrigQC[0,::-1],  lw=lw, color=color1, linestyle=ls2, marker=mark1);\n",
    "ax.loglog(hTrig[::-1],H1Error_TrigQC[1,::-1],  lw=lw, color=color2, linestyle=ls2, marker=mark2);\n",
    "ax.loglog(hTrig[::-1],H1Error_TrigQC[2,::-1],  lw=lw, color='darkblue', linestyle=ls2, marker='x');\n",
    "\n",
    "#add slope triangle for H1 error\n",
    "#linear\n",
    "slope_marker((hTrig[-3],H1Error_TrigQC[0,-3]), (1,1), 0.15, 0.15, ax, invert=True, ec='black',\\\n",
    "             linestyle='solid', lw='1.5', fill=False)\n",
    "\n",
    "ax.legend((\"$ L^2\\; \\mathcal{P}_1$ FE\", \"$L^2\\;\\mathcal{P}_2$ FE\", \"$L^2\\;\\mathcal{P}_3$ FE\",\\\n",
    "          \"$ H^1\\; \\mathcal{P}_1$ FE\", \"$H^1\\;\\mathcal{P}_2$ FE\", \"$H^1\\;\\mathcal{P}_3$ FE\",),\\\n",
    "          loc='lower right', framealpha=0.7)\n",
    "\n",
    "ax.set_xlabel(\"Mesh width\");\n",
    "ax.set_ylabel(\"errors\");\n",
    "#set tick labels\n",
    "ax.set_xticks(xTicksTrig)\n",
    "ax.set_xticklabels(xTickLabTrig, size='14', weight='bold')\n",
    "ax.set_xlim(min(xTicksTrig), max(xTicksTrig));\n",
    "\n",
    "ax.grid();\n",
    "#label size\n",
    "plt.tick_params(axis='both', which='major', labelsize=lsize)\n",
    "plt.title(\"Poisson with trigonometric solution\")\n",
    "fig.tight_layout();\n",
    "plt.show()"
   ]
  },
  {
   "cell_type": "markdown",
   "metadata": {},
   "source": [
    "And for the transport equation"
   ]
  },
  {
   "cell_type": "code",
   "execution_count": 56,
   "metadata": {
    "collapsed": false
   },
   "outputs": [],
   "source": [
    "fig, ax = plt.subplots()\n",
    "\n",
    "ax.loglog(hTrans[::-1],L2Error_Trans[0,::-1],  lw=lw, color=color1, linestyle=ls1, marker=mark1);\n",
    "ax.loglog(hTrans[::-1],L2Error_Trans[1,::-1],  lw=lw, color=color2, linestyle=ls1, marker=mark2);\n",
    "ax.loglog(hTrans[::-1],L2Error_Trans[2,::-1],  lw=lw, color='darkblue', linestyle=ls1, marker='x');\n",
    "\n",
    "\n",
    "\n",
    "#add slope triangle\n",
    "#Quartic\n",
    "slope_marker((hTrans[-2],L2Error_Trans[2,-2]), (4,1), 0.15, 0.15, ax,  ec='black', linestyle='solid', lw='1.5', fill=False)\n",
    "#Cubic\n",
    "slope_marker((hTrans[-2],L2Error_Trans[1,-2]), (3,1), 0.15, 0.15, ax,  ec='black', linestyle='solid', lw='1.5', fill=False)\n",
    "#Quadratic\n",
    "slope_marker((hTrans[-3],L2Error_Trans[0,-3]), (2,1), 0.15, 0.15, ax, ec='black', linestyle='solid', lw='1.5', fill=False)\n",
    "\n",
    "#add H1 errors\n",
    "ax.loglog(hTrans[::-1],H1Error_Trans[0,::-1],  lw=lw, color=color1, linestyle=ls2, marker=mark1);\n",
    "ax.loglog(hTrans[::-1],H1Error_Trans[1,::-1],  lw=lw, color=color2, linestyle=ls2, marker=mark2);\n",
    "ax.loglog(hTrans[::-1],H1Error_Trans[2,::-1],  lw=lw, color='darkblue', linestyle=ls2, marker='x');\n",
    "\n",
    "#add slope triangle for H1 error\n",
    "#linear\n",
    "slope_marker((hTrans[-3],H1Error_Trans[0,-3]), (1,1), 0.15, 0.15, ax, invert=True, ec='black',\\\n",
    "             linestyle='solid', lw='1.5', fill=False)\n",
    "\n",
    "ax.legend((\"$ L^2\\; \\mathcal{P}_1$ FE\", \"$L^2\\;\\mathcal{P}_2$ FE\", \"$L^2\\;\\mathcal{P}_3$ FE\",\\\n",
    "          \"$ H^1\\; \\mathcal{P}_1$ FE\", \"$H^1\\;\\mathcal{P}_2$ FE\", \"$H^1\\;\\mathcal{P}_3$ FE\",),\\\n",
    "          loc='lower right', framealpha=0.7)\n",
    "\n",
    "ax.set_xlabel(\"Mesh width\");\n",
    "ax.set_ylabel(\"errors\");\n",
    "#set tick labels\n",
    "ax.set_xticks(xTicksTrans)\n",
    "ax.set_xticklabels(xTickLabTrans, size='14', weight='bold')\n",
    "ax.set_xlim(min(xTicksTrans), max(xTicksTrans));\n",
    "\n",
    "ax.grid();\n",
    "#label size\n",
    "plt.tick_params(axis='both', which='major', labelsize=lsize)\n",
    "plt.title(\"Poisson with transport term\")\n",
    "fig.tight_layout();\n",
    "plt.show()"
   ]
  }
 ],
 "metadata": {
  "kernelspec": {
   "display_name": "Python 2",
   "language": "python",
   "name": "python2"
  },
  "language_info": {
   "codemirror_mode": {
    "name": "ipython",
    "version": 2
   },
   "file_extension": ".py",
   "mimetype": "text/x-python",
   "name": "python",
   "nbconvert_exporter": "python",
   "pygments_lexer": "ipython2",
   "version": "2.7.11"
  }
 },
 "nbformat": 4,
 "nbformat_minor": 0
}
